{
 "cells": [
  {
   "cell_type": "code",
   "execution_count": 59,
   "metadata": {},
   "outputs": [],
   "source": [
    "import numpy as np\n",
    "import scipy.stats as sps\n",
    "from time import time \n",
    "from math import *\n",
    "import matplotlib.pyplot as plt"
   ]
  },
  {
   "cell_type": "markdown",
   "metadata": {},
   "source": [
    "# I. Discretisation Scheme for the Black-Scholes model"
   ]
  },
  {
   "cell_type": "markdown",
   "metadata": {},
   "source": [
    "### 1. Black-Scholes Model"
   ]
  },
  {
   "cell_type": "markdown",
   "metadata": {},
   "source": [
    "In the Black-Scholes model, for a one dimension environment, the dynamics of a financial assets $X_{t}$ is the solution of:\n",
    "\n",
    "$$d X_{t}=r X_{t}dt+X_{t} \\sigma dW_{t} \\quad, \\quad X_{0} \\in \\mathbb{R} \\quad t \\in [0,T] $$\n",
    "\n",
    "where, $W_{t}$ is a Brownian Motion. "
   ]
  },
  {
   "cell_type": "markdown",
   "metadata": {},
   "source": [
    "#### Explicit solution"
   ]
  },
  {
   "cell_type": "markdown",
   "metadata": {},
   "source": [
    "$$X_t = X_0 e^{(r-\\frac{\\sigma^2}{2}) t + \\sigma W_t}\n",
    "$$"
   ]
  },
  {
   "cell_type": "code",
   "execution_count": 60,
   "metadata": {},
   "outputs": [],
   "source": [
    "def BS_Explicit(x,DW,r,sigma,T,m):\n",
    "    dt=T/m\n",
    "    DX = np.exp((r-sigma**2/2)*dt + sigma*DW)\n",
    "    X = np.c_[np.zeros(len(DW[:,0]))+x, x*np.cumprod(DX,axis=1)]\n",
    "    return(X)"
   ]
  },
  {
   "cell_type": "markdown",
   "metadata": {},
   "source": [
    "### 2. Euler Scheme"
   ]
  },
  {
   "cell_type": "markdown",
   "metadata": {},
   "source": [
    "\n",
    "The Euler discretisation for $m$ steps $\\hat{X}^{m}$ of $X$ is thus constructed by setting $\\hat{X}_{0}^{m}=x$ and then recursively for $0 \\leq i \\leq m-1$ :\n",
    "\n",
    "$$\n",
    "\\hat{X}_{t_{i+1}}^{m}=\\hat{X}_{t_{i}}^{m}+r\\hat{X}_{t_{i}}^{m} \\Delta t+\\sigma\\hat{X}_{t_{i}}^{m} \\Delta W_{i}\n",
    "$$\n",
    "\n",
    "where $\\Delta W_{i}:=W_{t_{i+1}}-W_{t_{i}}$, and $\\Delta t = t_{i+1} - t_{i}=\\frac{T}{m} $\n",
    "\n",
    "which can be written as:\n",
    "\n",
    "$$\\hat{X}_{t_{i+1}}^{m}=\\hat{X}_{t_{i}}^{m} \\left( 1+r \\Delta t+ \\sigma \\Delta W_{i} \\right) $$\n",
    "\n"
   ]
  },
  {
   "cell_type": "code",
   "execution_count": 61,
   "metadata": {},
   "outputs": [],
   "source": [
    "def BS_Euler_Scheme(x,DW,r,sigma,T,m):\n",
    "        dt=T/m\n",
    "        Xbar_Euler=np.zeros(DW.shape)\n",
    "        Xbar_Euler=np.c_[x+np.zeros(len(DW[:,0])),Xbar_Euler]\n",
    "        for i in range(m):\n",
    "            Xbar_Euler[:,i+1] = Xbar_Euler[:,i]*(1+r*dt+sigma*DW[:,i])\n",
    "        return(Xbar_Euler)   "
   ]
  },
  {
   "cell_type": "markdown",
   "metadata": {},
   "source": [
    "### 3. Milstein Scheme"
   ]
  },
  {
   "cell_type": "markdown",
   "metadata": {},
   "source": [
    "The Milstein discretisation adds the correction term $\\frac{1}{2} \\sigma^{2} \\left(\\Delta W_{i}^{2}-\\Delta t\\right)$ to the Euler scheme :\n",
    "\n",
    "$$\n",
    "\\hat{X}_{t_{i+1}}^{m}=\\hat{X}_{t_{i}}^{m}+r\\hat{X}_{t_{i}}^{m} \\Delta t+\\sigma\\hat{X}_{t_{i}}^{m} \\Delta W_{i} + \\frac{\\sigma^{2}}{2}  \\hat{X}_{t_{i}}^{m}\\left(\\Delta W_{i}^{2}-\\Delta t\\right) \n",
    "$$\n",
    "\n",
    "which can be written as:\n",
    "\n",
    "$$\\hat{X}_{t_{i+1}}^{m}=\\hat{X}_{t_{i}}^{m} \\left( 1+r \\Delta t+ \\sigma \\Delta W_{i} + \\frac{\\sigma^{2}}{2}  \\left(\\Delta W_{i}^{2}-\\Delta t\\right) \\right) $$\n"
   ]
  },
  {
   "cell_type": "code",
   "execution_count": 62,
   "metadata": {},
   "outputs": [],
   "source": [
    "def BS_Milstein_Scheme(x,DW,r,sigma,T,m):\n",
    "        h=T/m\n",
    "        Xbar_Milstein=np.zeros(DW.shape)\n",
    "        Xbar_Milstein=np.c_[x+np.zeros(len(DW[:,0])),Xbar_Milstein]\n",
    "        for i in range(m):\n",
    "            Xbar_Milstein[:,i+1] = Xbar_Milstein[:,i]*(1+r*h+sigma*DW[:,i]+0.5*(sigma**2)*(DW[:,i]**2-h))\n",
    "        return(Xbar_Milstein)"
   ]
  },
  {
   "cell_type": "markdown",
   "metadata": {},
   "source": [
    "#### Strong Error\n"
   ]
  },
  {
   "cell_type": "markdown",
   "metadata": {},
   "source": [
    "Strong error = $\\mathbb{E}\\left[\\sup _{t \\in[0, T]}\\left|X_{t}-\\hat{X}_{t}^{m}\\right|^{2}\\right]^{\\frac{1}{2}}$"
   ]
  },
  {
   "cell_type": "code",
   "execution_count": 63,
   "metadata": {},
   "outputs": [],
   "source": [
    "def Strong_Error(Xbar,X):\n",
    "    return np.sqrt(np.mean(np.max((X-Xbar)**2,axis=1)))"
   ]
  },
  {
   "cell_type": "markdown",
   "metadata": {},
   "source": [
    "### 4. Strong Error : Euler and Milstein discretisation "
   ]
  },
  {
   "cell_type": "markdown",
   "metadata": {},
   "source": [
    "**Here we will illustrate briefly how the Milstein Scheme differs in terms of strong error convergence."
   ]
  },
  {
   "cell_type": "markdown",
   "metadata": {},
   "source": [
    "### Parameters "
   ]
  },
  {
   "cell_type": "markdown",
   "metadata": {},
   "source": [
    "Parameters as in \"Multilevel Monte Carlo Path Simulation\" M.B.Giles (2008)\n",
    "\n",
    "$ r = 5%$,\n",
    "$ \\sigma = 0.2 ,  $\n",
    "$ X_0=x=0.05 , $\n",
    "$ T=1 , $"
   ]
  },
  {
   "cell_type": "code",
   "execution_count": 64,
   "metadata": {},
   "outputs": [],
   "source": [
    "r,sigma,x,T=0.05,0.2,1,1\n",
    "n=10**4 #Samples\n",
    "k=6"
   ]
  },
  {
   "cell_type": "code",
   "execution_count": 7,
   "metadata": {},
   "outputs": [
    {
     "data": {
      "image/png": "[encoded data removed]",
      "text/plain": [
       "<Figure size 432x288 with 1 Axes>"
      ]
     },
     "metadata": {
      "needs_background": "light"
     },
     "output_type": "display_data"
    },
    {
     "data": {
      "image/png": "[encoded data removed]",
      "text/plain": [
       "<Figure size 432x288 with 1 Axes>"
      ]
     },
     "metadata": {
      "needs_background": "light"
     },
     "output_type": "display_data"
    },
    {
     "data": {
      "image/png": "[encoded data removed]",
      "text/plain": [
       "<Figure size 432x288 with 1 Axes>"
      ]
     },
     "metadata": {
      "needs_background": "light"
     },
     "output_type": "display_data"
    },
    {
     "data": {
      "image/png": "[encoded data removed]",
      "text/plain": [
       "<Figure size 432x288 with 1 Axes>"
      ]
     },
     "metadata": {
      "needs_background": "light"
     },
     "output_type": "display_data"
    },
    {
     "data": {
      "image/png": "[encoded data removed]",
      "text/plain": [
       "<Figure size 432x288 with 1 Axes>"
      ]
     },
     "metadata": {
      "needs_background": "light"
     },
     "output_type": "display_data"
    },
    {
     "data": {
      "image/png": "[encoded data removed]",
      "text/plain": [
       "<Figure size 432x288 with 1 Axes>"
      ]
     },
     "metadata": {
      "needs_background": "light"
     },
     "output_type": "display_data"
    },
    {
     "data": {
      "image/png": "[encoded data removed]",
      "text/plain": [
       "<Figure size 432x288 with 1 Axes>"
      ]
     },
     "metadata": {
      "needs_background": "light"
     },
     "output_type": "display_data"
    }
   ],
   "source": [
    "Strong_Error_Euler=np.zeros(k)\n",
    "Strong_Error_Milstein=np.zeros(k)\n",
    "\n",
    "for j in range(k):\n",
    "    m=2**(j+1) #Steps \n",
    "    dt=T/m\n",
    "    \n",
    "    DW = np.random.randn(n,m)*np.sqrt(dt)\n",
    "    X=BS_Explicit(x,DW,r,sigma,T,m)\n",
    "    Xbar_Euler=BS_Euler_Scheme(x,DW,r,sigma,T,m)\n",
    "    Xbar_Milstein=BS_Milstein_Scheme(x,DW,r,sigma,T,m)\n",
    "    \n",
    "    Strong_Error_Euler[j]=Strong_Error(Xbar_Euler,X)\n",
    "    Strong_Error_Milstein[j]=Strong_Error(Xbar_Milstein,X)\n",
    "\n",
    "    t = np.arange(dt, T + 2*dt, dt)\n",
    "    plt.plot(t,X[0,:],label=\"Exact ($X_t$)\",color=\"blue\")    \n",
    "    plt.plot(t,Xbar_Euler[0,:],label=\"Euler ($X_t$)\",color=\"red\")\n",
    "    plt.plot(t,Xbar_Milstein[0,:],label=\"Milstein ($X_t$)\",color=\"green\")\n",
    "    plt.xlabel(\"t\")\n",
    "    plt.legend(loc=0)\n",
    "    plt.title(\"Milstein vs Euler Discretisation\")\n",
    "    plt.show()\n",
    "    \n",
    "h=2**np.arange(1,k+1)\n",
    "plt.plot(h,Strong_Error_Euler,label=\"Strong Error Euler\",color=\"red\")\n",
    "plt.plot(h,Strong_Error_Milstein,label=\"Strong Error Milstein\",color=\"green\")\n",
    "plt.legend(loc=0)\n",
    "plt.xlabel(\"m\")\n",
    "plt.title(\"Milstein vs Euler Strong Error\")\n",
    "plt.show()"
   ]
  },
  {
   "cell_type": "markdown",
   "metadata": {},
   "source": [
    "# II. Classic Monte Carlo"
   ]
  },
  {
   "cell_type": "markdown",
   "metadata": {},
   "source": [
    "### 1. Classic Monte Carlo estimator"
   ]
  },
  {
   "cell_type": "markdown",
   "metadata": {},
   "source": [
    "We are interested in pricing a financial product such as an option. The price of such a product is $\\mathbb{E}\\left[P(X_0,...,X_T)\\right]$ where $P$ is a function we call payoff. \n",
    "The classic Monte Carlo estimator $\\hat Y_{n}$ of $\\mathbb{E}\\left[P(X_0,...,X_T)\\right]$ for a sample of size $n$:\n",
    "\n",
    "$$\\hat Y_{n}= \\frac{1}{n}\\sum_{i=1}^{n} P(X^{i}_0,...,X^{i}_T)$$\n",
    "\n",
    "where, $X^{i}_0,...,X^{i}_T$ are independent and identically distributed of same law as $X_0,...,X_T$"
   ]
  },
  {
   "cell_type": "markdown",
   "metadata": {},
   "source": [
    "Now, if we use a discretisation $\\hat X^{m}_t$ for $X_t$, we denote the estimator $\\hat Y^{m}_{n}$\n"
   ]
  },
  {
   "cell_type": "markdown",
   "metadata": {},
   "source": [
    "### 2. Mean Square Error without discretisation"
   ]
  },
  {
   "cell_type": "markdown",
   "metadata": {},
   "source": [
    "The mean square error is defined as: \n",
    "\n",
    "$$ MSE =  \\mathbb{E}\\left[ ( \\hat Y_{n} -  \\mathbb{E}\\left[P(X_0,...,X_T)\\right] )  ^{2}\\right]$$"
   ]
  },
  {
   "cell_type": "markdown",
   "metadata": {},
   "source": [
    "The MSE can be decomposed as: \n",
    "\n",
    "$$ MSE = Var( \\hat Y_{n} ) + (\\mathbb{E}\\left[\\hat Y_{n}\\right] -  \\mathbb{E}\\left[P(X_0,...,X_T)\\right]) ^{2}$$\n",
    "\n",
    "$$ MSE  = \\frac{Var( P(X_0,...,X_T) )}{n} $$ \n",
    "as $$(\\mathbb{E}\\left[\\hat Y_{n}\\right] -  \\mathbb{E}\\left[P(X_0,...,X_T)\\right]) ^{2} = 0 $$"
   ]
  },
  {
   "cell_type": "markdown",
   "metadata": {},
   "source": [
    "Let's say we want an $MSE\\approx \\epsilon^{2}$, then we will need $n\\approx \\frac{Var( P(X_0,...,X_T)) }{\\epsilon^{-2}}$"
   ]
  },
  {
   "cell_type": "markdown",
   "metadata": {},
   "source": [
    "However, usually $Var(P(X_0,...,X_T))$ is not known. Therefore, we will use a pre-routine estimation. This will be useful when we will compare the Multilevel Monte Carlo to the classic Monte Carlo method, as we will need to have estimators of rougthly same quality. "
   ]
  },
  {
   "cell_type": "code",
   "execution_count": 65,
   "metadata": {},
   "outputs": [],
   "source": [
    "def pre_routine_Var(N,M,Payoff,BS_Scheme,r,sigma,T,K):\n",
    "    dt=T/M\n",
    "    DW=np.random.randn(N,M)*np.sqrt(dt)\n",
    "    Xbar=BS_Scheme(x,DW,r,sigma,T,M)\n",
    "    return(np.var(Payoff(Xbar,K,T,r)))"
   ]
  },
  {
   "cell_type": "markdown",
   "metadata": {},
   "source": [
    "### 3. Mean Square Error with discretisation"
   ]
  },
  {
   "cell_type": "markdown",
   "metadata": {},
   "source": [
    "$$ MSE  = \\frac{Var( P(X_0,...,X_T) )}{n} + (\\mathbb{E}[\\hat Y^{m}_{n}] -  \\mathbb{E}\\left[P(X_0,...,X_T)\\right]) ^{2}$$\n",
    "\n",
    "$$ MSE  = \\frac{Var( P(X_0,...,X_T) )}{n} + (\\mathbb{E}[P(\\hat X^{m}_0,...,\\hat X^{m}_T)] -  \\mathbb{E}\\left[P(X_0,...,X_T)\\right]) ^{2}$$\n",
    "\n",
    "Here, $\\mathbb{E}[P(\\hat X^{m}_0,...,\\hat X^{m}_T)] -  \\mathbb{E}\\left[P(X_0,...,X_T)\\right]$ is the Weak Error introduced by the discretisation."
   ]
  },
  {
   "cell_type": "markdown",
   "metadata": {},
   "source": [
    "Under the conditions of Theorem 3.5. of \"Monte Carlo and Finite Difference Methods with Applications in Finance\"\n",
    "J. Claisse (2020), we have: \n",
    "\n",
    "$$\\mathbb{E}[P(\\hat X^{m}_0,...,\\hat X^{m}_T)] -  \\mathbb{E}[P(X_0,...,X_T)]=O(m^{-1})$$\n",
    "\n",
    "Therefore, to achieve $MSE\\approx \\epsilon^{2}$, we choose $n\\approx \\frac{2Var( P(X_0,...,X_T)) }{\\epsilon^{2}}$ and $m \\approx  \\sqrt{n}$"
   ]
  },
  {
   "cell_type": "markdown",
   "metadata": {},
   "source": [
    "#### Computational Cost"
   ]
  },
  {
   "cell_type": "markdown",
   "metadata": {},
   "source": [
    "We define the computational cost as $ nm  \\approx \\epsilon^{-3}$ \n"
   ]
  },
  {
   "cell_type": "code",
   "execution_count": 66,
   "metadata": {},
   "outputs": [],
   "source": [
    "def MC(eps,x,BS_Scheme,Payoff,var,r,sigma,T,K): #var is estimated by pre_routine_Var\n",
    "    N=np.ceil(2*var/(eps**2))\n",
    "    M=np.ceil(np.sqrt(N))\n",
    "    h=T/M\n",
    "    DW=np.random.randn(int(N),int(M))*np.sqrt(h)\n",
    "    Xbar=BS_Scheme(x,DW,r,sigma,T,int(M))\n",
    "    P=np.mean(Payoff(Xbar,K,T,r))\n",
    "    s=np.std(Payoff(Xbar,K,T,r))\n",
    "    cost=N*M\n",
    "    \n",
    "    print(\"Estimator=\",P)    \n",
    "    print(\"Condidence interval 95%:\",[P-1.96*s/np.sqrt(N),P+1.96*s/np.sqrt(N)])\n",
    "    print(\"Error:\",100*1.96*s/(P*np.sqrt(N)),\"%\",\"\\n\")\n",
    "    print(\"Computational Cost=\",cost)\n",
    "    print(\"Number of samples=\",N)\n",
    "    print(\"Steps=\",M)\n",
    "    print(\"eps=\",eps,\"\\n\")\n",
    "\n",
    "    return (P,N,M,s)"
   ]
  },
  {
   "cell_type": "markdown",
   "metadata": {},
   "source": [
    "# III. Payoffs "
   ]
  },
  {
   "cell_type": "markdown",
   "metadata": {},
   "source": [
    "### 1. European Call Option"
   ]
  },
  {
   "cell_type": "markdown",
   "metadata": {},
   "source": [
    "The price of a European call option with strike $K$ and maturity $T$ is given by:\n",
    "\n",
    "$$\n",
    " \\mathbb{E}\\left[e^{-rT}(X_T-K)^+\\right]\n",
    "$$\n",
    "\n",
    "$$Payoff_{European Call} =e^{-rT}(X_T-K)^+$$"
   ]
  },
  {
   "cell_type": "code",
   "execution_count": 67,
   "metadata": {},
   "outputs": [],
   "source": [
    "def Payoff_Euro_Call(X,K,T,r):\n",
    "    return(np.maximum(X[:,-1]-K,0)*np.exp(-r*T))"
   ]
  },
  {
   "cell_type": "markdown",
   "metadata": {},
   "source": [
    "The exact price of the European Call option using the Black-Scholes formula is:\n",
    "$$\n",
    " Call_{BS}=X_0 \\mathcal{N}\\left(d_1\\right) - K e^{-rT} \\mathcal{N}\\left(d_1 - \\sigma\\sqrt{T}\\right), \\quad \\text{with } d_1 = \\frac{1}{\\sigma \\sqrt{T}} \\left(\\text{ln}\\left(\\frac{X_0}{K}\\right) + \\left(r+\\frac{\\sigma^2}{2}\\right) T \\right),\n",
    "$$"
   ]
  },
  {
   "cell_type": "markdown",
   "metadata": {},
   "source": [
    "** The exact price will be useful when we will compute the mean square error (MSE)."
   ]
  },
  {
   "cell_type": "code",
   "execution_count": 68,
   "metadata": {},
   "outputs": [],
   "source": [
    "def Call_BS(r,sigma,x,K,T):\n",
    "    d=(np.log(x/K)+(r+sigma**2/2)*T)/(sigma*np.sqrt(T))\n",
    "    return x*sps.norm.cdf(d)-K*np.exp(-r*T)*sps.norm.cdf(d-sigma*np.sqrt(T)) # Exact price European Call BS "
   ]
  },
  {
   "cell_type": "markdown",
   "metadata": {},
   "source": [
    "### 2. Asian Option"
   ]
  },
  {
   "cell_type": "markdown",
   "metadata": {},
   "source": [
    "The price of an Asian option with strike $K$ and maturity $T$ is given by:\n",
    "$$\n",
    " \\mathbb{E}\\left[e^{-rT}(\\bar{X_{T}}-K)^+\\right]\n",
    "$$\n",
    "\n",
    "$$Payoff_{AsianOption}=e^{-rT} (\\bar{X_{T}}-K)^+$$ \n",
    "\n",
    "where,\n",
    "$\\bar{X_{T}}=\\int_{0}^{T} X(t) \\mathrm{d} t$\n",
    "\n",
    "The integrale is approximated by:\n",
    "$$\\bar X_{T}= \\frac{T}{m}\\sum_{i=1}^{m} \\frac{X_{t_{i}}+{X}_{t_{i-1}}}{2}$$\n",
    "\n",
    "Thus, for the discretised $\\hat X^{m}$ we will have:\n",
    "$$\\bar{\\hat X}^{m}_{T}= \\frac{T}{m}\\sum_{i=1}^{m} \\frac{\\hat{X}^{m}_{t_{i}}+\\hat{X}^{m}_{t_{i-1}}}{2}$$\n"
   ]
  },
  {
   "cell_type": "code",
   "execution_count": 79,
   "metadata": {},
   "outputs": [],
   "source": [
    "def Payoff_Asian_Option(X,K,T,r):\n",
    "    A=(np.sum(X[:,1:]+X[:,:-1],axis=1))*0.5*(T/len(X[0,:]))\n",
    "    return np.exp(-r*T)*np.maximum(A-K,0)"
   ]
  },
  {
   "cell_type": "markdown",
   "metadata": {},
   "source": [
    "### 3. Lookback Option"
   ]
  },
  {
   "cell_type": "markdown",
   "metadata": {},
   "source": [
    "The price of a Lookback option with maturity $T$ is given by:\n",
    "$$\n",
    " \\mathbb{E}\\left[e^{-rT}(X_{T}-\\min _{0<t<T} X_{t})\\right]\n",
    "$$\n",
    "\n",
    "\n",
    "$$Payoff_{LookbackOption}=e^{-rT}(X_{T}-\\min _{0<t<T} X_{t})$$\n",
    "\n",
    "Thus, for the discretised $\\hat X^{m}$ the minimum value of $X$ is approximated by:\n",
    "\n",
    "$$\\hat{X}^{m}_{\\min }=\\left(\\min _{{0\\leq i\\leq m}} \\hat{X}^{m}_{t_{i}}\\right)\\left(1-\\beta^{*} \\sigma \\sqrt{ \\frac{T}{m}}\\right)$$\n",
    "\n",
    "with $\\beta^{*} ≈ 0.5826$"
   ]
  },
  {
   "cell_type": "code",
   "execution_count": 13,
   "metadata": {},
   "outputs": [],
   "source": [
    "def Payoff_Lookback_Option(X,K,T,r):\n",
    "    beta=0.5826\n",
    "    Xmin=np.min(X,axis=1)\n",
    "    return np.exp(-r*T)*(X[:,-1] - Xmin*(1-beta*sigma*np.sqrt(T/len(X[0,:]))))"
   ]
  },
  {
   "cell_type": "markdown",
   "metadata": {},
   "source": [
    "### 4. Digital Option"
   ]
  },
  {
   "cell_type": "markdown",
   "metadata": {},
   "source": [
    "The price of a Digital option with maturity $T$ is given by:\n",
    "$$\n",
    " \\mathbb{E}\\left[e^{-rT} 1_{X_{T}\\geq K}\\right]\n",
    "$$\n",
    "\n",
    "$$Payoff_{DigitalOption}=e^{-rT} 1_{X_{T}\\geq K}$$"
   ]
  },
  {
   "cell_type": "markdown",
   "metadata": {},
   "source": [
    "$$Var(Payoff_{DigitalOption})=Var(e^{-rT} 1_{X_{T}\\geq K})$$\n",
    "\n",
    "$$=e^{-2rT} P(X_{T}\\geq K)P(X_{T}< K)$$\n",
    "\n",
    "$$=e^{-2r t} \\mathcal{N}(d_2)(1-\\mathcal{N}(d_2))$$"
   ]
  },
  {
   "cell_type": "code",
   "execution_count": 14,
   "metadata": {},
   "outputs": [],
   "source": [
    "def Payoff_Digital_Option(X,K,T,r):\n",
    "    return (X[:,-1]>=K)*1*np.exp(-r*T)"
   ]
  },
  {
   "cell_type": "markdown",
   "metadata": {},
   "source": [
    "The exact price of the Digital option using the Black-Scholes formula is:\n",
    "$$Digital_{BS}=-\\frac{\\partial Call_{BS}}{\\partial K}$$\n",
    "as  $$\\frac{\\partial Call_{BS}(K)}{\\partial K}=\\frac{\\partial(X_0 \\mathcal{N}\\left(d_1\\right) - K e^{-rT} \\mathcal{N}\\left(d_1 - \\sigma\\sqrt{T}\\right))}{\\partial K}$$\n",
    "\n",
    "$$-\\frac{\\partial Call_{BS}(K)}{\\partial K}=e^{-r t} \\mathcal{N}(d_2)$$\n",
    "\n",
    "where, $d_2=d_1 - \\sigma\\sqrt{T}$\n",
    "\n",
    "\n"
   ]
  },
  {
   "cell_type": "code",
   "execution_count": 15,
   "metadata": {},
   "outputs": [],
   "source": [
    "def Digital_BS(r,sigma,x,K,T):\n",
    "    d2=(np.log(x/K)+(r-sigma**2/2)*T)/(sigma*np.sqrt(T))\n",
    "    return(np.exp(-r*T)*sps.norm.cdf(d2))  # Exact price Digital Option"
   ]
  },
  {
   "cell_type": "markdown",
   "metadata": {},
   "source": [
    "We can also price this option using the Finite Difference method:\n",
    "\n",
    "$$Digital_{BS}(K)=-\\frac{\\partial Call_{BS}(K)}{\\partial K}=\\lim _{\\delta \\rightarrow 0} \\frac{Call_{BS}(K-\\delta)-Call_{BS}(K+\\delta)}{2 \\delta}$$"
   ]
  },
  {
   "cell_type": "code",
   "execution_count": 16,
   "metadata": {},
   "outputs": [],
   "source": [
    "def Finite_Difference_Digital(r,sigma,x,K,T,delta):\n",
    "    return (Call_BS(r,sigma,x,K-delta,T)-Call_BS(r,sigma,x,K+delta,T))/(2*delta)"
   ]
  },
  {
   "cell_type": "markdown",
   "metadata": {},
   "source": [
    "### 5. Tests of the implemented functions\n",
    "\n",
    "Here, we simply test our implementation and compare the results to those of M.B.Giles (2008) to see if they are logic.\n",
    "\n",
    "We find that our implementation seems correct judging by the results we get below. \n"
   ]
  },
  {
   "cell_type": "markdown",
   "metadata": {},
   "source": [
    "### Parameters"
   ]
  },
  {
   "cell_type": "markdown",
   "metadata": {},
   "source": [
    "Parameters as in \"Multilevel Monte Carlo Path Simulation\" M.B.Giles (2008)\n",
    "\n",
    "$ r = 5%$,\n",
    "$ \\sigma = 0.2 ,  $\n",
    "$ X_0=x=0.05 , $\n",
    "$ K=1 , $\n",
    "$ T=1 , $"
   ]
  },
  {
   "cell_type": "code",
   "execution_count": 69,
   "metadata": {},
   "outputs": [],
   "source": [
    "r,sigma,x,K,T=0.05,0.2,1,1,1"
   ]
  },
  {
   "cell_type": "markdown",
   "metadata": {},
   "source": [
    "### a. European Call\n",
    "\n",
    " $ value \\approx 0.10 $\n",
    "\n"
   ]
  },
  {
   "cell_type": "markdown",
   "metadata": {},
   "source": [
    "#### Explicit Scheme and Exact value"
   ]
  },
  {
   "cell_type": "markdown",
   "metadata": {},
   "source": [
    "We can see that the function MC is well implemented as we get an $MSE$ of $\\epsilon^{2}$."
   ]
  },
  {
   "cell_type": "markdown",
   "metadata": {},
   "source": [
    "**From $\\epsilon = 10^{-4}$ and lower, sufficient RAM is necessary, we advise not getting below $\\epsilon = 10^{-3}$**"
   ]
  },
  {
   "cell_type": "code",
   "execution_count": 19,
   "metadata": {},
   "outputs": [
    {
     "name": "stdout",
     "output_type": "stream",
     "text": [
      "Exact Value Call_BS= 0.10450583572185568 \n",
      "\n",
      "Estimator= 0.10438366505935925\n",
      "Condidence interval 95%: [0.1030009104768319, 0.10576641964188661]\n",
      "Error: 1.3246848362155463 % \n",
      "\n",
      "Computational Cost= 8922784.0\n",
      "Number of samples= 42898.0\n",
      "Steps= 208.0\n",
      "eps= 0.001 \n",
      "\n",
      "MSE Explicit Euro_Call= 3.4211285571244477e-06 \n",
      "\n"
     ]
    }
   ],
   "source": [
    "#Exact Euro Call Value\n",
    "BS_Call=Call_BS(r,sigma,x,K,T)\n",
    "print(\"Exact Value Call_BS=\", BS_Call,\"\\n\")\n",
    "\n",
    "eps=0.001\n",
    "\n",
    "#Euro Call with Classic MC and Explicit solution of Black-Scholes SDE\n",
    "Payoff=Payoff_Euro_Call\n",
    "BS_Scheme=BS_Explicit\n",
    "\n",
    "n=10**4 # For the pre-routine estimation of Var(P)\n",
    "M=4\n",
    "Var_Esti_Explicit=pre_routine_Var(n,M,Payoff,BS_Scheme,r,sigma,T,K)\n",
    "\n",
    "EuroCall_Explicit,N_Explicit,M_Explicit,Var_Explicit=MC(eps,x,BS_Scheme,Payoff,Var_Esti_Explicit,r,sigma,T,K)\n",
    "\n",
    "MSE_Explicit_Euro_Call=Var_Explicit/N_Explicit+(EuroCall_Explicit-BS_Call)**2\n",
    "\n",
    "print(\"MSE Explicit Euro_Call=\",MSE_Explicit_Euro_Call,\"\\n\")\n"
   ]
  },
  {
   "cell_type": "markdown",
   "metadata": {},
   "source": [
    "#### Euler Scheme"
   ]
  },
  {
   "cell_type": "code",
   "execution_count": 20,
   "metadata": {},
   "outputs": [
    {
     "name": "stdout",
     "output_type": "stream",
     "text": [
      "Estimator= 0.10463369787053454\n",
      "Condidence interval 95%: [0.103219514782853, 0.10604788095821609]\n",
      "Error: 1.3515560631636536 % \n",
      "\n",
      "Computational Cost= 8329496.0\n",
      "Number of samples= 41032.0\n",
      "Steps= 203.0\n",
      "eps= 0.001 \n",
      "\n",
      "MSE Euler Euro_Call= 3.5783020583525632e-06\n",
      "Euler Weak Error Euro_Call= 0.00012786214867886725 \n",
      "\n"
     ]
    }
   ],
   "source": [
    "#Euro Call with Classic MC and Euler Scheme\n",
    "Payoff=Payoff_Euro_Call\n",
    "BS_Scheme=BS_Euler_Scheme\n",
    "\n",
    "n=10**4 # For the pre-routine estimation of Var(P)\n",
    "M=4\n",
    "Var_Esti_Euler=pre_routine_Var(n,M,Payoff,BS_Scheme,r,sigma,T,K)\n",
    "\n",
    "EuroCall_Euler,N_Euler,M_Euler,Var_Euler=MC(eps,x,BS_Scheme,Payoff,Var_Esti_Euler,r,sigma,T,K)\n",
    "\n",
    "\n",
    "Weak_Error_squared_Euler=(BS_Call-EuroCall_Euler)**2\n",
    "MSE_Euler_Euro_Call=Var_Euler/N_Euler+(EuroCall_Euler-BS_Call)**2\n",
    "\n",
    "print(\"MSE Euler Euro_Call=\",MSE_Euler_Euro_Call)\n",
    "print(\"Euler Weak Error Euro_Call=\",np.sqrt(Weak_Error_squared_Euler),\"\\n\")"
   ]
  },
  {
   "cell_type": "markdown",
   "metadata": {},
   "source": [
    "#### Milstein Scheme"
   ]
  },
  {
   "cell_type": "markdown",
   "metadata": {},
   "source": [
    "We can see that the weak error of the Milstein Scheme is roughtly of the same size as the one from the Euler Scheme."
   ]
  },
  {
   "cell_type": "code",
   "execution_count": 21,
   "metadata": {},
   "outputs": [
    {
     "name": "stdout",
     "output_type": "stream",
     "text": [
      "Estimator= 0.10422888277129931\n",
      "Condidence interval 95%: [0.10279790953914157, 0.10565985600345705]\n",
      "Error: 1.3729142960282983 % \n",
      "\n",
      "Computational Cost= 8299858.0\n",
      "Number of samples= 40886.0\n",
      "Steps= 203.0\n",
      "eps= 0.001 \n",
      "\n",
      "MSE Milstein Euro_Call= 3.6873756707672057e-06\n",
      "Milstein Weak Error Euro_Call= 0.0002769529505563667 \n",
      "\n"
     ]
    }
   ],
   "source": [
    "#Euro Call with Classic MC and Milstein Scheme\n",
    "Payoff=Payoff_Euro_Call\n",
    "BS_Scheme=BS_Milstein_Scheme\n",
    "\n",
    "n,M=10**4,4 # For the pre-routine estimation of Var(P)\n",
    "\n",
    "Var_Esti_Milstein=pre_routine_Var(n,M,Payoff,BS_Scheme,r,sigma,T,K)\n",
    "\n",
    "EuroCall_Milstein,N_Milstein,M_Milstein,Var_Milstein=MC(eps,x,BS_Scheme,Payoff,Var_Esti_Milstein,r,sigma,T,K)\n",
    "\n",
    "\n",
    "Weak_Error_squared_Milstein=(BS_Call-EuroCall_Milstein)**2\n",
    "MSE_Milstein_Euro_Call=Var_Milstein/N_Milstein+(EuroCall_Milstein-BS_Call)**2\n",
    "\n",
    "print(\"MSE Milstein Euro_Call=\",MSE_Milstein_Euro_Call)\n",
    "print(\"Milstein Weak Error Euro_Call=\",np.sqrt(Weak_Error_squared_Milstein),\"\\n\")\n"
   ]
  },
  {
   "cell_type": "markdown",
   "metadata": {},
   "source": [
    "### b. Asian Option\n",
    "\n",
    " $ value \\approx 0.058 $\n",
    " \n",
    " Here, the $MSE$ cannot be computed as we do not know the exact value of $\\mathbb{E}\\left[P_{AsianOption}(X_0,...,X_T)\\right]$.\n",
    " \n",
    " Also, the pre-routine estimation of $Var( P(X_0,...,X_T) )$ is very small, and therefore might provide a too small $n$ size of the sample for an accurate prediction.\n",
    " \n",
    " Therefore, we choose $n \\approx \\epsilon^{-2}$."
   ]
  },
  {
   "cell_type": "markdown",
   "metadata": {},
   "source": [
    "#### Explicit Scheme"
   ]
  },
  {
   "cell_type": "markdown",
   "metadata": {},
   "source": [
    "**From $\\epsilon = 10^{-3}$ and lower, sufficient RAM is necessary, we advise not getting below $\\epsilon = 10^{-2}$**"
   ]
  },
  {
   "cell_type": "code",
   "execution_count": 22,
   "metadata": {},
   "outputs": [
    {
     "name": "stdout",
     "output_type": "stream",
     "text": [
      "Estimator= 0.05383193121745611\n",
      "Condidence interval 95%: [0.052771027170882036, 0.05489283526403018]\n",
      "Error: 1.970770920865745 % \n",
      "\n",
      "Computational Cost= 2840000.0\n",
      "Number of samples= 20000.0\n",
      "Steps= 142.0\n",
      "eps= 0.01 \n",
      "\n"
     ]
    }
   ],
   "source": [
    "eps=0.01\n",
    "\n",
    "#Asian Option with Classic MC and Explicit solution of Black-Scholes SDE\n",
    "Payoff=Payoff_Asian_Option\n",
    "BS_Scheme=BS_Explicit\n",
    "\n",
    "AsianOption_Explicit,N_Explicit,M_Explicit,Var_Explicit=MC(eps,x,BS_Scheme,Payoff,1,r,sigma,T,K)"
   ]
  },
  {
   "cell_type": "markdown",
   "metadata": {},
   "source": [
    "#### Euler Scheme"
   ]
  },
  {
   "cell_type": "code",
   "execution_count": 23,
   "metadata": {},
   "outputs": [
    {
     "name": "stdout",
     "output_type": "stream",
     "text": [
      "Estimator= 0.05411694990207186\n",
      "Condidence interval 95%: [0.05304628903131205, 0.05518761077283167]\n",
      "Error: 1.9784205737707732 % \n",
      "\n",
      "Computational Cost= 2840000.0\n",
      "Number of samples= 20000.0\n",
      "Steps= 142.0\n",
      "eps= 0.01 \n",
      "\n"
     ]
    }
   ],
   "source": [
    "eps=0.01\n",
    "\n",
    "#Asian Option with Classic MC and Euler Scheme\n",
    "Payoff=Payoff_Asian_Option\n",
    "BS_Scheme=BS_Euler_Scheme\n",
    "\n",
    "AsianOption_Euler,N_Euler,M_Euler,Var_Euler=MC(eps,x,BS_Scheme,Payoff,1,r,sigma,T,K)"
   ]
  },
  {
   "cell_type": "markdown",
   "metadata": {},
   "source": [
    "#### Milstein Scheme"
   ]
  },
  {
   "cell_type": "code",
   "execution_count": 24,
   "metadata": {},
   "outputs": [
    {
     "name": "stdout",
     "output_type": "stream",
     "text": [
      "Estimator= 0.053614208874917836\n",
      "Condidence interval 95%: [0.05254072258207442, 0.05468769516776125]\n",
      "Error: 2.0022421581336065 % \n",
      "\n",
      "Computational Cost= 2840000.0\n",
      "Number of samples= 20000.0\n",
      "Steps= 142.0\n",
      "eps= 0.01 \n",
      "\n"
     ]
    }
   ],
   "source": [
    "eps=0.01\n",
    "\n",
    "#Asian Option with Classic MC and Milstein Scheme\n",
    "Payoff=Payoff_Asian_Option\n",
    "BS_Scheme=BS_Milstein_Scheme\n",
    "\n",
    "AsianOption_Milstein,N_Milstein,M_Milstein,Var_Milstein=MC(eps,x,BS_Scheme,Payoff,1,r,sigma,T,K)"
   ]
  },
  {
   "cell_type": "markdown",
   "metadata": {},
   "source": [
    "### c. Lookback Option\n",
    "\n",
    " $ value \\approx 0.17 $\n",
    " \n",
    " Again, the $MSE$ cannot be computed as we do not know the exact value of $\\mathbb{E}\\left[P_{Lookback}(X_0,...,X_T)\\right]$.\n",
    " "
   ]
  },
  {
   "cell_type": "markdown",
   "metadata": {},
   "source": [
    "**From $\\epsilon = 10^{-4}$ and lower, sufficient RAM is necessary, we advise not getting below $\\epsilon = 10^{-3}$**"
   ]
  },
  {
   "cell_type": "markdown",
   "metadata": {},
   "source": [
    "#### Explicit Scheme"
   ]
  },
  {
   "cell_type": "code",
   "execution_count": 25,
   "metadata": {},
   "outputs": [
    {
     "name": "stdout",
     "output_type": "stream",
     "text": [
      "Estimator= 0.17210697772281827\n",
      "Condidence interval 95%: [0.17074281876994538, 0.17347113667569117]\n",
      "Error: 0.7926226878900308 % \n",
      "\n",
      "Computational Cost= 9205350.0\n",
      "Number of samples= 43835.0\n",
      "Steps= 210.0\n",
      "eps= 0.001 \n",
      "\n"
     ]
    }
   ],
   "source": [
    "eps=0.001\n",
    "\n",
    "#Lookback Option with Classic MC and Explicit solution of Black-Scholes\n",
    "Payoff=Payoff_Lookback_Option\n",
    "BS_Scheme=BS_Explicit\n",
    "\n",
    "n,M=10**4,4 # For the pre-routine estimation of Var(P)\n",
    "\n",
    "Var_Esti_Explicit=pre_routine_Var(n,M,Payoff,BS_Scheme,r,sigma,T,K)\n",
    "\n",
    "Lookback_Explicit,N_Explicit,M_Explicit,Var_Explicit=MC(eps,x,BS_Scheme,Payoff,Var_Esti_Explicit,r,sigma,T,K)\n"
   ]
  },
  {
   "cell_type": "markdown",
   "metadata": {},
   "source": [
    "#### Euler Scheme"
   ]
  },
  {
   "cell_type": "code",
   "execution_count": 26,
   "metadata": {},
   "outputs": [
    {
     "name": "stdout",
     "output_type": "stream",
     "text": [
      "Estimator= 0.1716107736234493\n",
      "Condidence interval 95%: [0.17019426907065557, 0.173027278176243]\n",
      "Error: 0.8254170311601928 % \n",
      "\n",
      "Computational Cost= 8054874.0\n",
      "Number of samples= 40074.0\n",
      "Steps= 201.0\n",
      "eps= 0.001 \n",
      "\n"
     ]
    }
   ],
   "source": [
    "eps=0.001\n",
    "\n",
    "#Lookback Option with Classic MC and Euler Scheme\n",
    "Payoff=Payoff_Lookback_Option\n",
    "BS_Scheme=BS_Euler_Scheme\n",
    "\n",
    "n,M=10**4,4 # For the pre-routine estimation of Var(P)\n",
    "\n",
    "Var_Esti_Euler=pre_routine_Var(n,M,Payoff,BS_Scheme,r,sigma,T,K)\n",
    "\n",
    "Lookback_Euler,N_Euler,M_Euler,Var_Euler=MC(eps,x,BS_Scheme,Payoff,Var_Esti_Euler,r,sigma,T,K)\n"
   ]
  },
  {
   "cell_type": "markdown",
   "metadata": {},
   "source": [
    "#### Milstein Scheme"
   ]
  },
  {
   "cell_type": "code",
   "execution_count": 27,
   "metadata": {},
   "outputs": [
    {
     "name": "stdout",
     "output_type": "stream",
     "text": [
      "Estimator= 0.17108802990737756\n",
      "Condidence interval 95%: [0.16970693623234928, 0.17246912358240585]\n",
      "Error: 0.8072415561602846 % \n",
      "\n",
      "Computational Cost= 8815923.0\n",
      "Number of samples= 42589.0\n",
      "Steps= 207.0\n",
      "eps= 0.001 \n",
      "\n"
     ]
    }
   ],
   "source": [
    "eps=0.001\n",
    "\n",
    "#Lookback Option with Classic MC and Euler Scheme\n",
    "Payoff=Payoff_Lookback_Option\n",
    "BS_Scheme=BS_Milstein_Scheme\n",
    "\n",
    "n,M=10**4,4 # For the pre-routine estimation of Var(P)\n",
    "\n",
    "Var_Esti_Milstein=pre_routine_Var(n,M,Payoff,BS_Scheme,r,sigma,T,K)\n",
    "\n",
    "Lookback_Milstein,N_Milstein,M_Milstein,Var_Milstein=MC(eps,x,BS_Scheme,Payoff,Var_Esti_Milstein,r,sigma,T,K)\n"
   ]
  },
  {
   "cell_type": "markdown",
   "metadata": {},
   "source": [
    "### d. Digital Option\n",
    "\n",
    " $ value \\approx 0.53 $\n",
    " \n",
    " **From $\\epsilon = 10^{-3}$ and lower, sufficient RAM is necessary, we advise not getting below $\\epsilon = 10^{-2}$**"
   ]
  },
  {
   "cell_type": "markdown",
   "metadata": {},
   "source": [
    "#### Explicit Scheme and Exact value"
   ]
  },
  {
   "cell_type": "code",
   "execution_count": 28,
   "metadata": {},
   "outputs": [
    {
     "name": "stdout",
     "output_type": "stream",
     "text": [
      "Digital Option Exact value= 0.5323248154537634 \n",
      "\n",
      "Estimator= 0.5502627612582606\n",
      "Condidence interval 95%: [0.5364770925717041, 0.5640484299448171]\n",
      "Error: 2.505288319898919 % \n",
      "\n",
      "Computational Cost= 298820.0\n",
      "Number of samples= 4460.0\n",
      "Steps= 67.0\n",
      "eps= 0.01 \n",
      "\n",
      "MSE Digital Explicit= 0.00037176840163656756\n"
     ]
    }
   ],
   "source": [
    "# Digital Option Exact value\n",
    "BS_Digital=Digital_BS(r,sigma,x,K,T)\n",
    "print(\"Digital Option Exact value=\",BS_Digital,\"\\n\")\n",
    "\n",
    "eps=0.01\n",
    "#Digital Option with Classic MC and Explicit solution of Black-Scholes SDE\n",
    "Payoff=Payoff_Digital_Option\n",
    "BS_Scheme=BS_Explicit\n",
    "\n",
    "# The Variance\n",
    "d2=(np.log(x/K)+(r-sigma**2/2)*T)/(sigma*np.sqrt(T))\n",
    "var_Digital=np.exp(-2*r*T)*sps.norm.cdf(d2)*(1-sps.norm.cdf(d2))\n",
    "\n",
    "Digital_Explicit,N_Explicit,M_Explicit,Var_Explicit=MC(eps,x,BS_Scheme,Payoff,var_Digital,r,sigma,T,K)\n",
    "\n",
    "\n",
    "MSE_Digital_Explicit=var_Digital/N_Explicit+(Digital_Explicit-BS_Digital)**2\n",
    "\n",
    "print(\"MSE Digital Explicit=\",MSE_Digital_Explicit)\n"
   ]
  },
  {
   "cell_type": "markdown",
   "metadata": {},
   "source": [
    "#### Euler Scheme"
   ]
  },
  {
   "cell_type": "code",
   "execution_count": 29,
   "metadata": {},
   "outputs": [
    {
     "name": "stdout",
     "output_type": "stream",
     "text": [
      "Estimator= 0.536826112436838\n",
      "Condidence interval 95%: [0.5229835316345411, 0.5506686932391348]\n",
      "Error: 2.578596771207836 % \n",
      "\n",
      "Computational Cost= 298820.0\n",
      "Number of samples= 4460.0\n",
      "Steps= 67.0\n",
      "eps= 0.01 \n",
      "\n",
      "MSE Digital Euler= 7.026017648132686e-05\n",
      "Euler Weak Error Digital= 0.004501296983074554 \n",
      "\n"
     ]
    }
   ],
   "source": [
    "eps=0.01\n",
    "#Digital Option with Classic MC and Euler Scheme\n",
    "Payoff=Payoff_Digital_Option\n",
    "BS_Scheme=BS_Euler_Scheme\n",
    "\n",
    "\n",
    "# The Variance\n",
    "d2=(np.log(x/K)+(r-sigma**2/2)*T)/(sigma*np.sqrt(T))\n",
    "var_Digital=np.exp(-2*r*T)*sps.norm.cdf(d2)*(1-sps.norm.cdf(d2))\n",
    "\n",
    "Digital_Euler,N_Euler,M_Euler,Var_Euler=MC(eps,x,BS_Scheme,Payoff,var_Digital,r,sigma,T,K)\n",
    "\n",
    "Weak_Error_squared_Euler=(Digital_Euler-BS_Digital)**2\n",
    "MSE_Digital_Euler=var_Digital/N_Euler+(Digital_Euler-BS_Digital)**2\n",
    "\n",
    "print(\"MSE Digital Euler=\",MSE_Digital_Euler)\n",
    "print(\"Euler Weak Error Digital=\",np.sqrt(Weak_Error_squared_Euler),\"\\n\")\n"
   ]
  },
  {
   "cell_type": "markdown",
   "metadata": {},
   "source": [
    "#### Milstein Scheme"
   ]
  },
  {
   "cell_type": "code",
   "execution_count": 30,
   "metadata": {},
   "outputs": [
    {
     "name": "stdout",
     "output_type": "stream",
     "text": [
      "Estimator= 0.5246691444555508\n",
      "Condidence interval 95%: [0.5107849204917998, 0.5385533684193018]\n",
      "Error: 2.6462817778542442 % \n",
      "\n",
      "Computational Cost= 298820.0\n",
      "Number of samples= 4460.0\n",
      "Steps= 67.0\n",
      "eps= 0.01 \n",
      "\n",
      "MSE Digital Milstein= 0.0001086078003843647\n",
      "Milstein Weak Error Digital= 0.007655670998212627 \n",
      "\n"
     ]
    }
   ],
   "source": [
    "eps=0.01\n",
    "#Digital Option with Classic MC and Euler Scheme\n",
    "Payoff=Payoff_Digital_Option\n",
    "BS_Scheme=BS_Milstein_Scheme\n",
    "\n",
    "\n",
    "# The Variance\n",
    "d2=(np.log(x/K)+(r-sigma**2/2)*T)/(sigma*np.sqrt(T))\n",
    "var_Digital=np.exp(-2*r*T)*sps.norm.cdf(d2)*(1-sps.norm.cdf(d2))\n",
    "\n",
    "Digital_Milstein,N_Milstein,M_Milstein,Var_Milstein=MC(eps,x,BS_Scheme,Payoff,var_Digital,r,sigma,T,K)\n",
    "\n",
    "Weak_Error_squared_Milstein=(Digital_Milstein-BS_Digital)**2\n",
    "MSE_Digital_Milstein=var_Digital/N_Milstein+(Digital_Milstein-BS_Digital)**2\n",
    "\n",
    "print(\"MSE Digital Milstein=\",MSE_Digital_Milstein)\n",
    "print(\"Milstein Weak Error Digital=\",np.sqrt(Weak_Error_squared_Milstein),\"\\n\")\n"
   ]
  },
  {
   "cell_type": "markdown",
   "metadata": {},
   "source": [
    "#### Finite Difference"
   ]
  },
  {
   "cell_type": "code",
   "execution_count": 31,
   "metadata": {},
   "outputs": [
    {
     "name": "stdout",
     "output_type": "stream",
     "text": [
      "Finite Difference Digital= 0.5323248936273672\n"
     ]
    }
   ],
   "source": [
    "delta=0.001\n",
    "Digital_Finite=Finite_Difference_Digital(r,sigma,x,K,T,delta)\n",
    "\n",
    "print(\"Finite Difference Digital=\",Digital_Finite)"
   ]
  },
  {
   "cell_type": "markdown",
   "metadata": {},
   "source": [
    "# IV. Multilevel Monte Carlo\n",
    "\n",
    "Before implementing the method we will briefly resume, the idea of M.B.Giles (2008). "
   ]
  },
  {
   "cell_type": "markdown",
   "metadata": {},
   "source": [
    "### 1. Introduction to the Multilevel Monte Carlo method (MLCM)"
   ]
  },
  {
   "cell_type": "markdown",
   "metadata": {},
   "source": [
    "We are still interested in pricing a financial product of price $\\mathbb{E}\\left[P(X_0,...,X_T)\\right]$. \n",
    "\n",
    "However, this time we will use multiple steps $m^{l}$, $l=0,...,L$ to discretise $X_t$, and note $\\hat X^{m^{l}}_t$. \n",
    "\n",
    "Let $\\hat P_l=P(\\hat X^{m^{l}}_0,...,\\hat X^{m^{l}}_T)$. \n",
    "Then we have the trivial equality:\n",
    "\n",
    "$$ \\mathbb{E}\\left[\\hat{P}_{L}\\right]=\\mathbb{E}\\left[\\hat{P}_{0}\\right]+\\sum_{l=1}^{L} \\mathbb{E}\\left[\\hat{P}_{l}-\\hat{P}_{l-1}\\right]$$\n",
    "\n",
    "Now, let $\\hat Y_0$ be the Monte Carlo estimator of $\\mathbb{E}[\\hat{P}_{0}]$ for a sample size $N_0$:\n",
    "\n",
    "$$\\hat{Y}_{0}=\\frac{1}{N_0} \\sum_{i=1}^{N_{l}}\\hat{P}_{0}^{(i)}$$\n",
    "\n",
    "and, let $\\hat Y_l$, $l>0$ the Monte Carlo estimator of $\\mathbb{E}[\\hat{P}_{l}-\\hat{P}_{l-1}]$ for a sample size $N_l$: $$\\hat{Y}_{l}=\\frac{1}{N_l} \\sum_{i=1}^{N_{l}}\\left(\\hat{P}_{l}^{(i)}-\\hat{P}_{l-1}^{(i)}\\right)$$\n",
    "\n",
    "Finally the estimator of $\\mathbb{E}\\left[P(X_0,...,X_T)\\right]$ is $\\hat Y=\\sum_{l=0}^{L}\\hat Y_l$\n"
   ]
  },
  {
   "cell_type": "markdown",
   "metadata": {},
   "source": [
    "We have, $$\\hat P_l- \\hat P_{l-1}=P(\\hat X^{m^{l}}_0,...,\\hat X^{m^{l}}_T)-P(\\hat X^{m^{l-1}}_0,...,\\hat X^{m^{-1}}_T)$$\n",
    "\n",
    "To compute $\\hat P_{l-1}$ we use the same Brownian motion, by summing the increments of $W_{t_{0}},..., W_{t_{m^{l}}}$ in groups of size M.\n",
    "\n",
    "As $W_{t_{i}}-W_{t_{i-1}}$,  $i=1,...,m^{l}$ is of law $\\mathcal{N}(0,\\frac{T}{m^{l}})$, summing them will give us $\\tilde W_{t_{i}}-\\tilde W_{t_{i-1}}$,  $i=1,...,m^{l-1}$ of law $\\mathcal{N}(0,\\frac{T}{m^{l-1}})$\n"
   ]
  },
  {
   "cell_type": "markdown",
   "metadata": {},
   "source": [
    "### 2. Variance of the MLMC estimator"
   ]
  },
  {
   "cell_type": "markdown",
   "metadata": {},
   "source": [
    "$Var(\\hat Y)=\\sum_{l=0}^{L}\\frac {V_l}{N_l}$ as all the $\\hat Y_l$, $l\\geq0$ are estimated independently, where $V_l=Var(\\hat P_l-\\hat P_{l-1})$, $l>0$, and $V_0=Var(P_0)$.\n",
    "\n",
    "We have: \n",
    "\n",
    "$V\\left[\\hat{P}_{l}-\\hat{P}_{l-1}\\right] \\leqslant\\left(\\left(V\\left[\\hat{P}_{l}-P\\right]\\right)^{1 / 2}+\\left(V\\left[\\hat{P}_{l-1}-P\\right]\\right)^{1 / 2}\\right)^{2} (1)$\n",
    "\n",
    "In the case of a Lipschitz payoff function we have:\n",
    "$V\\left[\\hat{P}_{l}-P\\right] \\leqslant E\\left[\\left(\\hat{P}_{l}-P\\right)^{2}\\right] \\leqslant c^{2} E\\left[\\left\\|\\hat{X}^{m^{l}}_t-X_t\\right\\|^{2}\\right]$\n",
    "\n",
    "therefore $(1)$ becomes:\n",
    "$V_l=V\\left[\\hat{P}_{l}-\\hat{P}_{l-1}\\right] \\leqslant c^{2}\\left( E[\\|\\hat{X}^{m^{l}}-X\\|^{2}]^{1/2}+ E[\\|\\hat{X}^{m^{l-1}}-X\\|^{2}]^{1/2}\\right)^{2}$\n",
    "\n",
    "Hence, in the case of the Euler discretisation the quantity $E[\\|\\hat{X}^{m^{l}}-X\\|^{2}]$ is $O(\\frac{T}{m^{l}})$\n",
    "\n",
    "So, $V_l$ is also $O(\\frac{T}{m^{l}})$.\n",
    "\n",
    "Now, if we take $N_l = O(\\epsilon ^{-2} L h_l)$, then $Var(\\hat Y)=O(\\epsilon ^{2})$\n",
    "\n",
    "To achieve an $MSE=\\epsilon ^{2}$, we need the weak error $E\\left[\\hat{P}_{L}-P\\right]$ to be $O(\\epsilon)$. This is possible using $\\frac{T}{m^{L}}=O(\\epsilon)$ as the Euler weak convergence is $O( \\frac{T}{m^{L}})$"
   ]
  },
  {
   "cell_type": "markdown",
   "metadata": {},
   "source": [
    "### 3. Numerical Algorithm"
   ]
  },
  {
   "cell_type": "markdown",
   "metadata": {},
   "source": [
    "##### The multi- level algorithm used for the numerical tests:\n",
    "\n",
    "Step 1. Start with $L = 0$.\n",
    "\n",
    "Step 2. Estimate $V_L$ using an initial set of $N_L = 10^{4}$samples.\n",
    "\n",
    "Step 3. Define optimal $N_l, l = 0,...,L$, using:\n",
    "$$N_{l}=\\left\\lceil  2 \\epsilon^{-2} \\sqrt{V_{l} h_{l}}(\\sum_{l=0}^{L} \\sqrt{V_{l} / h_{l}}) \\right\\rceil$$\n",
    "\n",
    "Step 4. Evaluate extra samples at each level as needed for new $N_l$.\n",
    "\n",
    "Step 5. If $L \\geq 2$, test for convergence using:\n",
    "$$\\max \\left\\{M^{-1}\\left|\\hat{Y}_{L-1}\\right|,\\left|\\hat{Y}_{L}\\right|\\right\\}<\\frac{1}{\\sqrt{2}}(M-1) \\epsilon$$\n",
    "Step 6. If $L<2$ or it is not converged, set $L=L+1$ and go to Step 2."
   ]
  },
  {
   "cell_type": "markdown",
   "metadata": {},
   "source": [
    "### 4. Implementation of MLMC"
   ]
  },
  {
   "cell_type": "markdown",
   "metadata": {},
   "source": [
    "\n",
    "\n",
    "The $PL$ function will help use compute samples of $\\hat P_l- \\hat P_{l-1}$ and return $\\sum_{i=1}^{N_l} (\\hat{P}^{i}_{l}-\\hat{P}^{i}_{l-1})$ with  $\\sum_{i=1}^{N_l} (\\hat{P}^{i}_{l}-\\hat{P}^{i}_{l-1})^{2}$. \n",
    "\n",
    "Then theses quantities will be stored in the variable **PL _sample_sum** and **PL_sample_squared** in the function MLMC, so that we will be able to add the **N_Ex** new sample when needed.\n",
    "\n",
    "Then we will estimate $V_l$ using an estimator of: \n",
    "\n",
    "$$ E[(\\hat{P}_{l}-\\hat{P}_{l-1})^{2}]-E[(\\hat{P}_{l}-\\hat{P}_{l-1})]^{2}$$\n",
    "\n",
    "with: \n",
    "\n",
    "$$ \\frac{1}{N_l}\\sum_{i=1}^{N_l} (\\hat{P}^{i}_{l}-\\hat{P}^{i}_{l-1})^{2} -   \\left[ \\frac{1}{N_l} \\sum_{i=1}^{N_l} (\\hat{P}^{i}_{l}-\\hat{P}^{i}_{l-1}) \\right] ^{2}$$\n",
    "\n"
   ]
  },
  {
   "cell_type": "markdown",
   "metadata": {},
   "source": [
    "\n",
    "\n"
   ]
  },
  {
   "cell_type": "code",
   "execution_count": 18,
   "metadata": {},
   "outputs": [],
   "source": [
    "def PL(L,NL,ML,M,x,BS_Scheme,Payoff,r,sigma,T,K):\n",
    "    if (L>0):\n",
    "        DW_L=np.random.randn(NL,ML)*np.sqrt(T/ML)\n",
    "        DW_L_1=np.zeros((NL,int(ML/M)))\n",
    "        for j in range(int(ML/M)):\n",
    "            DW_L_1[:,j]=np.sum(DW_L[:,j*M:(j+1)*M],axis=1)\n",
    "        Sbar_L=BS_Scheme(x,DW_L,r,sigma,T,ML)\n",
    "        Sbar_L_1=BS_Scheme(x,DW_L_1,r,sigma,T,int(ML/M))\n",
    "        return (sum(Payoff(Sbar_L,K,T,r)-Payoff(Sbar_L_1,K,T,r)),sum((Payoff(Sbar_L,K,T,r)-Payoff(Sbar_L_1,K,T,r))**2))\n",
    "    else:\n",
    "        DW_L=np.random.randn(NL,ML)*np.sqrt(T/ML)\n",
    "        Sbar_L=BS_Scheme(x,DW_L,r,sigma,T,ML)\n",
    "        return (sum(Payoff(Sbar_L,K,T,r)),sum(Payoff(Sbar_L,K,T,r)**2))"
   ]
  },
  {
   "cell_type": "code",
   "execution_count": 58,
   "metadata": {},
   "outputs": [],
   "source": [
    "def PL_A(L,NL,ML,M,x,BS_Scheme,Payoff,r,sigma,T,K):\n",
    "    if (L>0):\n",
    "        DW_L=np.random.randn(NL,ML)*np.sqrt(T/ML)\n",
    "        DW_L_1=np.zeros((NL,int(ML/M)))\n",
    "        for j in range(int(ML/M)):\n",
    "            DW_L_1[:,j]=np.sum(DW_L[:,j*M:(j+1)*M],axis=1)\n",
    "        Sbar_L_p=BS_Scheme(x,DW_L,r,sigma,T,ML)\n",
    "        Sbar_L_m=BS_Scheme(x,-DW_L,r,sigma,T,ML)\n",
    "        Sbar_L_1_p=BS_Scheme(x,DW_L_1,r,sigma,T,int(ML/M))\n",
    "        Sbar_L_1_m=BS_Scheme(x,-DW_L_1,r,sigma,T,int(ML/M))\n",
    "        return (sum((Payoff(Sbar_L_p,K,T,r)+Payoff(Sbar_L_m,K,T,r)-Payoff(Sbar_L_1_p,K,T,r)-Payoff(Sbar_L_1_m,K,T,r))*0.5),sum(((Payoff(Sbar_L_p,K,T,r)+Payoff(Sbar_L_m,K,T,r)-Payoff(Sbar_L_1_p,K,T,r)-Payoff(Sbar_L_1_m,K,T,r))*0.5)**2))\n",
    "    else:\n",
    "        DW_L=np.random.randn(NL,ML)*np.sqrt(T/ML)\n",
    "        Sbar_L_p=BS_Scheme(x,DW_L,r,sigma,T,ML)\n",
    "        Sbar_L_m=BS_Scheme(x,-DW_L,r,sigma,T,ML)\n",
    "        return (sum((Payoff(Sbar_L_p,K,T,r)+Payoff(Sbar_L_m,K,T,r))*0.5),sum(((Payoff(Sbar_L_p,K,T,r)+Payoff(Sbar_L_m,K,T,r))*0.5)**2))"
   ]
  },
  {
   "cell_type": "code",
   "execution_count": 70,
   "metadata": {},
   "outputs": [],
   "source": [
    "def MLMC_A(eps,N0,M,x,BS_Scheme,Payoff,r,sigma,T,K): #esp**2=MSE\n",
    "    \n",
    "    #Step 1\n",
    "    L=0\n",
    "    NL=np.zeros(L+1) #Keep track of Nl for each level \n",
    "    N_Ex=np.ones(L+1)*N0 #Extra Samples\n",
    "    N_Ex=N_Ex.astype('int')\n",
    "    PL_sample_sum=np.zeros(L+1) #Stocking Sums of iid P(l) - P(l-1) to enable updates with Extra samples\n",
    "    PL_sample_squared=np.zeros(L+1) #Stocking Sums of iid [P(l) - P(l-1)]**2 to enable variance computation with Extra samples\n",
    "    VL=np.zeros(L+1)  #Saving VL values for Nl computation\n",
    "    hL=T/M**np.arange(0,L+1)\n",
    "\n",
    "    while (sum(N_Ex)>0): \n",
    "        for l in range(L+1):\n",
    "            if (N_Ex[l]>0):\n",
    "                NL[l]=NL[l]+N_Ex[l] # Updates NL values with Extra Samples \n",
    "                PL_sample_sum[l]= PL_sample_sum[l] + PL_A(l,N_Ex[l],M**l,M,x,BS_Scheme,Payoff,r,sigma,T,K)[0] #Add the P(l)-P(l-1) Extra samples\n",
    "                PL_sample_squared[l]=PL_sample_squared[l]+PL_A(l,N_Ex[l],M**l,M,x,BS_Scheme,Payoff,r,sigma,T,K)[1] #and [P(l)-P(l-1)]**2 for variance computation\n",
    "\n",
    "        #Step 2: Evaluate VL\n",
    "        Ybar_L=(PL_sample_sum/NL) #Estimators of E[P(l)-P(l-1)]\n",
    "        VL=np.maximum(0,PL_sample_squared/NL-Ybar_L**2) #E(Y**2)-E(Y)**2 # Estimator of Vl\n",
    "                                                        \n",
    "        #Step 3: NL Optimal\n",
    "        N_Opti=np.ceil(2*(eps**(-2))*np.sqrt(VL*hL)*sum(np.sqrt(VL/hL)))   \n",
    "        N_Ex=np.maximum(0,N_Opti-NL)\n",
    "        N_Ex=N_Ex.astype('int')\n",
    "\n",
    "        #Step 6\n",
    "        if (L>=2):\n",
    "            Convergence=(np.maximum(np.abs(Ybar_L[L-1]/M),np.abs(Ybar_L[L]))<(M-1)*eps/np.sqrt(2))*1 #Equation (10)\n",
    "            \n",
    "        if (L<2) or (Convergence==0):\n",
    "            L=L+1\n",
    "            NL=np.append(NL,0)\n",
    "            N_Ex=np.append(N_Ex,100) ###\n",
    "            N_Ex=N_Ex.astype('int')\n",
    "            VL=np.append(VL,0)\n",
    "            hL=np.append(hL,T/M**L)\n",
    "            PL_sample_sum=np.append(PL_sample_sum,0)\n",
    "            PL_sample_squared=np.append(PL_sample_squared,0)\n",
    "    \n",
    "    ML=M**np.arange(0,L+1)\n",
    "    ML_1=np.append(0,ML[:-1])\n",
    "    cost=sum(NL*(ML+ML_1))\n",
    "    P=sum(PL_sample_sum/NL)\n",
    "    s=np.sqrt(sum(VL))\n",
    "    S_Vl=sum(VL/NL)\n",
    "\n",
    "    print(\"Estimator=\",P)    \n",
    "    print(\"Condidence interval 95%:\",[P-1.96*s/np.sqrt((sum(NL))),P+1.96*s/np.sqrt((sum(NL)))])\n",
    "    print(\"Error:\",100*1.96*s/(P*np.sqrt(sum(NL))),\"%\",\"\\n\")\n",
    "    print(\"Computational Cost=\",cost)\n",
    "    print(\"Number of samples NL=\",NL)\n",
    "    print(\"L=\",L)\n",
    "    print(\"eps=\",eps)\n",
    "\n",
    "    return(NL,P,S_Vl,cost,L)"
   ]
  },
  {
   "cell_type": "code",
   "execution_count": 85,
   "metadata": {},
   "outputs": [
    {
     "name": "stdout",
     "output_type": "stream",
     "text": [
      "Estimator= 0.05628036985821668\n",
      "Condidence interval 95%: [0.05578961053165282, 0.05677112918478054]\n",
      "Error: 0.8719902299864025 % \n",
      "\n",
      "Computational Cost= 296240.0\n",
      "Number of samples NL= [10000.  1624.  3602.   576.   100.   100.]\n",
      "L= 5\n",
      "eps= 0.001\n",
      "time= 0.21038126945495605 \n",
      "\n",
      "Estimator= 0.05848579742096966\n",
      "Condidence interval 95%: [0.058024590399395545, 0.05894700444254378]\n",
      "Error: 0.7885795217160734 % \n",
      "\n",
      "Computational Cost= 277560.0\n",
      "Number of samples NL= [10000.  2220.  3259.   391.   100.   100.]\n",
      "L= 5\n",
      "eps= 0.001\n",
      "time= 0.33284497261047363\n",
      "EULER PERF=  0.00620825879141339\n",
      "MILSTEIN PERF= 0.005816784735838174\n",
      "Variance antitethic M= 4.157442296893978e-07\n",
      "Variance antitethic E= 4.3598046566657407e-07\n"
     ]
    }
   ],
   "source": [
    "###MLMC ANTITHETIC\n",
    "\n",
    "eps=0.001\n",
    "N0=10**4\n",
    "M=4\n",
    "\n",
    "# Multilevel Monte Carlo estimator with Euler Scheme for Euro Call\n",
    "BS_Scheme=BS_Euler_Scheme\n",
    "Payoff=Payoff_Asian_Option\n",
    "\n",
    "\n",
    "t1_MLMC_Euler=time()\n",
    "NL_Euler,P_MLMC_Euler,S_Vl_E,cost_Euler,L_Euler=MLMC_A(eps,N0,M,x,BS_Scheme,Payoff,r,sigma,T,K)\n",
    "t2_MLMC_Euler=time()\n",
    "\n",
    "MSE_MLMC_Euler=S_Vl+(P_MLMC_Euler-Call_BS(r,sigma,x,K,T))**2\n",
    "Weak_Error_squared_MLMC_Euler=(P_MLMC_Euler-Call_BS(r,sigma,x,K,T))**2\n",
    "\n",
    "print(\"time=\",t2_MLMC_Euler-t1_MLMC_Euler,\"\\n\")\n",
    "\n",
    "\n",
    "\n",
    "\n",
    "# Multilevel Monte Carlo estimator with Milstein Scheme for Euro Call\n",
    "\n",
    "BS_Scheme=BS_Milstein_Scheme\n",
    "Payoff=Payoff_Asian_Option\n",
    "\n",
    "\n",
    "t1_MLMC_Milstein=time()\n",
    "NL_Misltein,P_MLMC_Milstein,S_Vl_M,cost_Milstein,L_Milstein=MLMC_A(eps,N0,M,x,BS_Scheme,Payoff,r,sigma,T,K)\n",
    "t2_MLMC_Milstein=time()\n",
    "\n",
    "MSE_MLMC_Milstein=S_Vl+(P_MLMC_Milstein-Call_BS(r,sigma,x,K,T))**2\n",
    "Weak_Error_squared_MLMC_Milstein=(P_MLMC_Milstein-Call_BS(r,sigma,x,K,T))**2\n",
    "\n",
    "\n",
    "print(\"time=\",t2_MLMC_Milstein-t1_MLMC_Milstein)\n",
    "\n",
    "ML_Euler=M**np.arange(L_Euler+1)\n",
    "NM_Euler=sum(NL_Euler*ML_Euler)\n",
    "## O(e**-2loge**2)\n",
    "perf=eps**(-2)*(np.log(eps)**2)\n",
    "print(\"EULER PERF= \",cost_Euler/perf)\n",
    "\n",
    "ML_Milstein=M**np.arange(L_Milstein+1)\n",
    "NM_Milstein=sum(NL_Misltein*ML_Milstein)\n",
    "\n",
    "print(\"MILSTEIN PERF=\", cost_Milstein/perf)\n",
    "\n",
    "print(\"Variance antitethic M=\", S_Vl_M)\n",
    "print(\"Variance antitethic E=\", S_Vl_E)"
   ]
  },
  {
   "cell_type": "code",
   "execution_count": 19,
   "metadata": {},
   "outputs": [],
   "source": [
    "     \n",
    "def MLMC(eps,N0,M,x,BS_Scheme,Payoff,r,sigma,T,K): #esp**2=MSE\n",
    "    \n",
    "    #Step 1\n",
    "    L=0\n",
    "    NL=np.zeros(L+1) #Keep track of Nl for each level \n",
    "    N_Ex=np.ones(L+1)*N0 #Extra Samples\n",
    "    N_Ex=N_Ex.astype('int')\n",
    "    PL_sample_sum=np.zeros(L+1) #Stocking Sums of iid P(l) - P(l-1) to enable updates with Extra samples\n",
    "    PL_sample_squared=np.zeros(L+1) #Stocking Sums of iid [P(l) - P(l-1)]**2 to enable variance computation with Extra samples\n",
    "    VL=np.zeros(L+1)  #Saving VL values for Nl computation\n",
    "    hL=T/M**np.arange(0,L+1)\n",
    "\n",
    "    while (sum(N_Ex)>0): \n",
    "        for l in range(L+1):\n",
    "            if (N_Ex[l]>0):\n",
    "                NL[l]=NL[l]+N_Ex[l] # Updates NL values with Extra Samples \n",
    "                PL_sample_sum[l]= PL_sample_sum[l] + PL(l,N_Ex[l],M**l,M,x,BS_Scheme,Payoff,r,sigma,T,K)[0] #Add the P(l)-P(l-1) Extra samples\n",
    "                PL_sample_squared[l]=PL_sample_squared[l]+PL(l,N_Ex[l],M**l,M,x,BS_Scheme,Payoff,r,sigma,T,K)[1] #and [P(l)-P(l-1)]**2 for variance computation\n",
    "\n",
    "        #Step 2: Evaluate VL\n",
    "        Ybar_L=(PL_sample_sum/NL) #Estimators of E[P(l)-P(l-1)]\n",
    "        VL=np.maximum(0,PL_sample_squared/NL-Ybar_L**2) #E(Y**2)-E(Y)**2 # Estimator of Vl\n",
    "                                                        \n",
    "        #Step 3: NL Optimal\n",
    "        N_Opti=np.ceil(2*(eps**(-2))*np.sqrt(VL*hL)*sum(np.sqrt(VL/hL)))   \n",
    "        N_Ex=np.maximum(0,N_Opti-NL)\n",
    "        N_Ex=N_Ex.astype('int')\n",
    "\n",
    "        #Step 6\n",
    "        if (L>=2):\n",
    "            Convergence=(np.maximum(np.abs(Ybar_L[L-1]/M),np.abs(Ybar_L[L]))<(M-1)*eps/np.sqrt(2))*1 #Equation (10)\n",
    "            \n",
    "        if (L<2) or (Convergence==0):\n",
    "            L=L+1\n",
    "            NL=np.append(NL,0)\n",
    "            N_Ex=np.append(N_Ex,100) ###\n",
    "            N_Ex=N_Ex.astype('int')\n",
    "            VL=np.append(VL,0)\n",
    "            hL=np.append(hL,T/M**L)\n",
    "            PL_sample_sum=np.append(PL_sample_sum,0)\n",
    "            PL_sample_squared=np.append(PL_sample_squared,0)\n",
    "    \n",
    "    ML=M**np.arange(0,L+1)\n",
    "    ML_1=np.append(0,ML[:-1])\n",
    "    cost=sum(NL*(ML+ML_1))\n",
    "    P=sum(PL_sample_sum/NL)\n",
    "    s=np.sqrt(sum(VL))\n",
    "    S_Vl=sum(VL/NL)\n",
    "\n",
    "    print(\"Estimator=\",P)    \n",
    "    print(\"Condidence interval 95%:\",[P-1.96*s/np.sqrt((sum(NL))),P+1.96*s/np.sqrt((sum(NL)))])\n",
    "    print(\"Error:\",100*1.96*s/(P*np.sqrt(sum(NL))),\"%\",\"\\n\")\n",
    "    print(\"Computational Cost=\",cost)\n",
    "    print(\"Number of samples NL=\",NL)\n",
    "    print(\"L=\",L)\n",
    "    print(\"eps=\",eps)\n",
    "\n",
    "    return(NL,P,S_Vl,cost,L)\n"
   ]
  },
  {
   "cell_type": "markdown",
   "metadata": {},
   "source": [
    "### 5. Test and Comparison with classic Monte Carlo"
   ]
  },
  {
   "cell_type": "markdown",
   "metadata": {},
   "source": [
    "### Parameters"
   ]
  },
  {
   "cell_type": "markdown",
   "metadata": {},
   "source": [
    "Parameters as in \"Multilevel Monte Carlo Path Simulation\" M.B.Giles (2008)\n",
    "\n",
    "$ r = 5%$,\n",
    "$ \\sigma = 0.2 ,  $\n",
    "$ X_0=x=0.05 , $\n",
    "$ K=1 , $\n",
    "$ T=1 , $"
   ]
  },
  {
   "cell_type": "code",
   "execution_count": 20,
   "metadata": {},
   "outputs": [],
   "source": [
    "r,sigma,x,K,T=0.05,0.2,1,1,1"
   ]
  },
  {
   "cell_type": "markdown",
   "metadata": {},
   "source": [
    "### a. European Call"
   ]
  },
  {
   "cell_type": "markdown",
   "metadata": {},
   "source": [
    "##### MLMC Euler/Milstein Scheme  vs Classic MC with Explicit solution "
   ]
  },
  {
   "cell_type": "markdown",
   "metadata": {},
   "source": [
    "$\\epsilon=0.001$\n",
    "\n",
    ". Our MLMC estimator , with Euler discretisation and with Milstein discretisation, provided an $MSE \\approx 10^{-6}$ and often $MSE \\approx 10^{-7}$\n",
    "\n",
    "both with a computational cost that is far less than the classic Monte Carlo (with Explicit Scheme) for rougthly the same $MSE$. \n",
    "\n",
    ". Our MLMC with Euler discretisation has a computation cost that is about 100 times lower than the classic Monte Carlo.\n",
    "\n",
    ". Our MLMC with Milstein discretisation has a computation cost that is about 200 times lower than the classic Monte Carlo.\n",
    "\n",
    ". Timing $\\approx  0.07$ sec for the MLMC with Euler; \n",
    "$\\approx  0.05$ sec for the MLMC with Euler;\n",
    "$\\approx  0.70$ the classic Monte Carlo."
   ]
  },
  {
   "cell_type": "markdown",
   "metadata": {},
   "source": [
    "**Therefore, the MLMC method has completely eliminated the additional cost due to the discretisation.**"
   ]
  },
  {
   "cell_type": "markdown",
   "metadata": {},
   "source": [
    "The MLMC can go up to $\\epsilon=\\frac{10^{-4}}{2}$ in $\\approx  42$ sec as shown below, we advise not using lower $\\epsilon$ as sufficient RAM will be needed.\n",
    "\n",
    "For comparison we will use $\\epsilon=10^{-3}$ as the classic Monte Carlo can not go lower without more RAM."
   ]
  },
  {
   "cell_type": "code",
   "execution_count": 23,
   "metadata": {},
   "outputs": [
    {
     "name": "stdout",
     "output_type": "stream",
     "text": [
      "Estimator= 0.104530218402532\n",
      "Condidence interval 95%: [0.10449164767122855, 0.10456878913383545]\n",
      "Error: 0.03689912055375003 % \n",
      "\n",
      "Computational Cost= 136411526.0\n",
      "Number of samples NL= [3.8795806e+07 3.2157200e+06 7.8956000e+05 1.9972400e+05 5.0677000e+04\n",
      " 1.2484000e+04 3.4320000e+03]\n",
      "L= 6\n",
      "eps= 5e-05\n",
      "time= 55.18091416358948 \n",
      "\n"
     ]
    }
   ],
   "source": [
    "eps=0.5*10**(-4)\n",
    "N0=10**4\n",
    "M=4\n",
    "\n",
    "# Multilevel Monte Carlo estimator with Euler Scheme for Euro Call\n",
    "BS_Scheme=BS_Euler_Scheme\n",
    "Payoff=Payoff_Euro_Call\n",
    "\n",
    "\n",
    "t1_MLMC_Euler=time()\n",
    "NL_Euler,P_MLMC_Euler,S_Vl,cost,L=MLMC(eps,N0,M,x,BS_Scheme,Payoff,r,sigma,T,K)\n",
    "t2_MLMC_Euler=time()\n",
    "\n",
    "print(\"time=\",t2_MLMC_Euler-t1_MLMC_Euler,\"\\n\")"
   ]
  },
  {
   "cell_type": "code",
   "execution_count": 77,
   "metadata": {},
   "outputs": [
    {
     "name": "stdout",
     "output_type": "stream",
     "text": [
      "Estimator= 0.10500839420089986\n",
      "Condidence interval 95%: [0.10397298255814579, 0.10604380584365393]\n",
      "Error: 0.9860274986903912 % \n",
      "\n",
      "Computational Cost= 97677.0\n",
      "Number of samples NL= [52772.  4449.  1133.]\n",
      "L= 2\n",
      "eps= 0.001\n",
      "Weak_Error_squared MLMC Euler= 2.52565024859199e-07\n",
      "MSE MLMC Euler= 7.307399420992943e-07 \n",
      "\n",
      "time= 0.09499907493591309 \n",
      "\n",
      "Estimator= 0.10666358621631776\n",
      "Condidence interval 95%: [0.10535724779966224, 0.10796992463297328]\n",
      "Error: 1.2247276347958351 % \n",
      "\n",
      "Computational Cost= 47940.0\n",
      "Number of samples NL= [42540.   672.   102.]\n",
      "L= 2\n",
      "eps= 0.001\n",
      "Weak_Error_squared MLMC Euler= 4.655887196351361e-06\n",
      "MSE MLMC Milstein= 5.134062113591456e-06 \n",
      "\n",
      "time= 0.11041593551635742\n",
      "EULER PERF=  0.002047002747667046\n",
      "MILSTEIN PERF= 0.001004671639415197\n",
      "Variance M= 4.972737639987022e-07\n",
      "Variance  E= 4.981373922523279e-07\n"
     ]
    }
   ],
   "source": [
    "eps=0.001\n",
    "N0=10**4\n",
    "M=4\n",
    "\n",
    "# Multilevel Monte Carlo estimator with Euler Scheme for Euro Call\n",
    "BS_Scheme=BS_Euler_Scheme\n",
    "Payoff=Payoff_Euro_Call\n",
    "\n",
    "\n",
    "t1_MLMC_Euler=time()\n",
    "NL_Euler,P_MLMC_Euler,S_Vl_E,cost_Euler,L_Euler=MLMC(eps,N0,M,x,BS_Scheme,Payoff,r,sigma,T,K)\n",
    "t2_MLMC_Euler=time()\n",
    "\n",
    "MSE_MLMC_Euler=S_Vl+(P_MLMC_Euler-Call_BS(r,sigma,x,K,T))**2\n",
    "Weak_Error_squared_MLMC_Euler=(P_MLMC_Euler-Call_BS(r,sigma,x,K,T))**2\n",
    "\n",
    "print(\"Weak_Error_squared MLMC Euler=\",Weak_Error_squared_MLMC_Euler)\n",
    "print(\"MSE MLMC Euler=\", MSE_MLMC_Euler,\"\\n\")\n",
    "\n",
    "print(\"time=\",t2_MLMC_Euler-t1_MLMC_Euler,\"\\n\")\n",
    "\n",
    "\n",
    "\n",
    "\n",
    "# Multilevel Monte Carlo estimator with Milstein Scheme for Euro Call\n",
    "\n",
    "BS_Scheme=BS_Milstein_Scheme\n",
    "Payoff=Payoff_Euro_Call\n",
    "\n",
    "\n",
    "t1_MLMC_Milstein=time()\n",
    "NL_Misltein,P_MLMC_Milstein,S_Vl_M,cost_Milstein,L_Milstein=MLMC(eps,N0,M,x,BS_Scheme,Payoff,r,sigma,T,K)\n",
    "t2_MLMC_Milstein=time()\n",
    "\n",
    "MSE_MLMC_Milstein=S_Vl+(P_MLMC_Milstein-Call_BS(r,sigma,x,K,T))**2\n",
    "Weak_Error_squared_MLMC_Milstein=(P_MLMC_Milstein-Call_BS(r,sigma,x,K,T))**2\n",
    "\n",
    "print(\"Weak_Error_squared MLMC Euler=\",Weak_Error_squared_MLMC_Milstein)\n",
    "print(\"MSE MLMC Milstein=\", MSE_MLMC_Milstein,\"\\n\")\n",
    "\n",
    "print(\"time=\",t2_MLMC_Milstein-t1_MLMC_Milstein)\n",
    "\n",
    "ML_Euler=M**np.arange(L_Euler+1)\n",
    "NM_Euler=sum(NL_Euler*ML_Euler)\n",
    "## O(e**-2loge**2)\n",
    "perf=eps**(-2)*(np.log(eps)**2)\n",
    "print(\"EULER PERF= \",cost_Euler/perf)\n",
    "\n",
    "ML_Milstein=M**np.arange(L_Milstein+1)\n",
    "NM_Milstein=sum(NL_Misltein*ML_Milstein)\n",
    "\n",
    "print(\"MILSTEIN PERF=\", cost_Milstein/perf)\n",
    "\n",
    "print(\"Variance M=\", S_Vl_M)\n",
    "print(\"Variance  E=\", S_Vl_E)"
   ]
  },
  {
   "cell_type": "code",
   "execution_count": 38,
   "metadata": {},
   "outputs": [
    {
     "name": "stdout",
     "output_type": "stream",
     "text": [
      "Estimator= 0.10501286624820835\n",
      "Condidence interval 95%: [0.10363695971464207, 0.10638877278177464]\n",
      "Error: 1.3102266252919854 % \n",
      "\n",
      "Computational Cost= 9476400.0\n",
      "Number of samples= 44700.0\n",
      "Steps= 212.0\n",
      "eps= 0.001 \n",
      "\n",
      "MSE MC Explicit Euro_Call= 3.5773935219709305e-06 \n",
      "\n",
      "time= 0.611187219619751\n"
     ]
    }
   ],
   "source": [
    "\n",
    "eps=0.001\n",
    "\n",
    "#Euro Call with Classic MC and Explicit solution of Black-Scholes SDE\n",
    "Payoff=Payoff_Euro_Call\n",
    "BS_Scheme=BS_Explicit\n",
    "\n",
    "n=10**4 # For the pre-routine estimation of Var(P)\n",
    "M=4\n",
    "Var_Esti_Explicit=pre_routine_Var(n,M,Payoff,BS_Scheme,r,sigma,T,K)\n",
    "\n",
    "\n",
    "t1_MC_Explicit=time()\n",
    "EuroCall_Explicit,N_Explicit,M_Explicit,Var_Explicit=MC(eps,x,BS_Scheme,Payoff,Var_Esti_Explicit,r,sigma,T,K)\n",
    "t2_MC_Explicit=time()\n",
    "\n",
    "\n",
    "MSE_Explicit_Euro_Call=Var_Explicit/N_Explicit+(EuroCall_Explicit-BS_Call)**2\n",
    "\n",
    "print(\"MSE MC Explicit Euro_Call=\",MSE_Explicit_Euro_Call,\"\\n\")\n",
    "\n",
    "print(\"time=\",t2_MC_Explicit-t1_MC_Explicit)\n"
   ]
  },
  {
   "cell_type": "markdown",
   "metadata": {},
   "source": [
    "##### MLMC Euler Scheme  vs Classic MC Euler Scheme"
   ]
  },
  {
   "cell_type": "markdown",
   "metadata": {},
   "source": [
    "We find similar results with a timing of $\\approx 0.54$ sec for the classic MC Euler Scheme."
   ]
  },
  {
   "cell_type": "code",
   "execution_count": 39,
   "metadata": {},
   "outputs": [
    {
     "name": "stdout",
     "output_type": "stream",
     "text": [
      "Estimator= 0.10501219113172112\n",
      "Condidence interval 95%: [0.10355238522557852, 0.10647199703786372]\n",
      "Error: 1.3901299367342044 % \n",
      "\n",
      "Computational Cost= 7706358.0\n",
      "Number of samples= 38921.0\n",
      "Steps= 198.0\n",
      "eps= 0.001 \n",
      "\n",
      "MSE Euler Euro_Call= 4.031657395288987e-06\n",
      "Euler Weak Error Euro_Call= 0.0005063554098654471 \n",
      "\n",
      "time= 0.537804126739502\n"
     ]
    }
   ],
   "source": [
    "#Euro Call with Classic MC and Euler Scheme\n",
    "Payoff=Payoff_Euro_Call\n",
    "BS_Scheme=BS_Euler_Scheme\n",
    "\n",
    "n=10**4 # For the pre-routine estimation of Var(P)\n",
    "M=4\n",
    "Var_Esti_Euler=pre_routine_Var(n,M,Payoff,BS_Scheme,r,sigma,T,K)\n",
    "\n",
    "t1_MC_Euler=time()\n",
    "EuroCall_Euler,N_Euler,M_Euler,Var_Euler=MC(eps,x,BS_Scheme,Payoff,Var_Esti_Euler,r,sigma,T,K)\n",
    "t2_MC_Euler=time()\n",
    "\n",
    "Weak_Error_squared_Euler=(BS_Call-EuroCall_Euler)**2\n",
    "MSE_Euler_Euro_Call=Var_Euler/N_Euler+(EuroCall_Euler-BS_Call)**2\n",
    "\n",
    "print(\"MSE Euler Euro_Call=\",MSE_Euler_Euro_Call)\n",
    "print(\"Euler Weak Error Euro_Call=\",np.sqrt(Weak_Error_squared_Euler),\"\\n\")\n",
    "print(\"time=\",t2_MC_Euler-t1_MC_Euler)"
   ]
  },
  {
   "cell_type": "markdown",
   "metadata": {},
   "source": [
    "#####  MLMC Milstein Scheme  vs Classic MC Milstein Scheme"
   ]
  },
  {
   "cell_type": "markdown",
   "metadata": {},
   "source": [
    "Results are similar as those found above."
   ]
  },
  {
   "cell_type": "code",
   "execution_count": 40,
   "metadata": {},
   "outputs": [
    {
     "name": "stdout",
     "output_type": "stream",
     "text": [
      "Estimator= 0.10446234219649769\n",
      "Condidence interval 95%: [0.10305244266859095, 0.10587224172440443]\n",
      "Error: 1.3496725214667977 % \n",
      "\n",
      "Computational Cost= 8699792.0\n",
      "Number of samples= 42232.0\n",
      "Steps= 206.0\n",
      "eps= 0.001 \n",
      "\n",
      "MSE Milstein Euro_Call= 3.5022400557244743e-06\n",
      "Milstein Weak Error Euro_Call= 4.34935253579849e-05 \n",
      "\n",
      "time= 0.7019829750061035\n"
     ]
    }
   ],
   "source": [
    "\n",
    "#Euro Call with Classic MC and Milstein Scheme\n",
    "Payoff=Payoff_Euro_Call\n",
    "BS_Scheme=BS_Milstein_Scheme\n",
    "\n",
    "n,M=10**4,4 # For the pre-routine estimation of Var(P)\n",
    "\n",
    "Var_Esti_Milstein=pre_routine_Var(n,M,Payoff,BS_Scheme,r,sigma,T,K)\n",
    "\n",
    "t1_MC_Milstein=time()\n",
    "EuroCall_Milstein,N_Milstein,M_Milstein,Var_Milstein=MC(eps,x,BS_Scheme,Payoff,Var_Esti_Milstein,r,sigma,T,K)\n",
    "t2_MC_Milstein=time()\n",
    "\n",
    "Weak_Error_squared_Milstein=(BS_Call-EuroCall_Milstein)**2\n",
    "MSE_Milstein_Euro_Call=Var_Milstein/N_Milstein+(EuroCall_Milstein-BS_Call)**2\n",
    "\n",
    "print(\"MSE Milstein Euro_Call=\",MSE_Milstein_Euro_Call)\n",
    "print(\"Milstein Weak Error Euro_Call=\",np.sqrt(Weak_Error_squared_Milstein),\"\\n\")\n",
    "\n",
    "print(\"time=\",t2_MC_Milstein-t1_MC_Milstein)"
   ]
  },
  {
   "cell_type": "markdown",
   "metadata": {},
   "source": [
    "The following functions are helpful to plot some interesting quantities."
   ]
  },
  {
   "cell_type": "markdown",
   "metadata": {},
   "source": [
    "### b. Asian Option"
   ]
  },
  {
   "cell_type": "markdown",
   "metadata": {},
   "source": [
    "For $\\epsilon = 0.01$  \n",
    "\n",
    "We can see that the variance of the MLMC estimator is far lower than the variance of the classic Monte Carlo estimator $ \\frac{Var_{MLMC}}{Var_{MC}} \\approx 10^{-4} $\n",
    "\n",
    "The timing of MLMC is about $\\approx 0.02$ sec while for the classic Monte Carlo  $\\approx 0.20$ sec. The MLMC is 10 times faster and provide a much lower variance.\n",
    "\n",
    "Also, it is important to notice that with the classic Monte Carlo if we want to choose $\\epsilon = 10^{-3}$ or lower, sufficient RAM is needed while for the MLMC we can go to $\\epsilon = 10^{-4}$ as shown below. However the timing would be $\\approx 20$ secs."
   ]
  },
  {
   "cell_type": "code",
   "execution_count": 41,
   "metadata": {},
   "outputs": [
    {
     "name": "stdout",
     "output_type": "stream",
     "text": [
      "Estimator= 0.05753671760449239\n",
      "Condidence interval 95%: [0.057468211249535016, 0.05760522395944976]\n",
      "Error: 0.11906545560746651 % \n",
      "\n",
      "Computational Cost= 97484615.0\n",
      "Number of samples NL= [1.000000e+04 6.346870e+05 1.551543e+06 3.536030e+05 4.877500e+04\n",
      " 7.596000e+03 1.125000e+03 1.900000e+02]\n",
      "L= 7\n",
      "eps= 0.0001\n",
      "time= 18.199321031570435 \n",
      "\n"
     ]
    }
   ],
   "source": [
    "eps=10**(-4)\n",
    "N0=10**4\n",
    "M=4\n",
    "\n",
    "# Multilevel Monte Carlo estimator with Euler Scheme for Asian Option\n",
    "BS_Scheme=BS_Euler_Scheme\n",
    "Payoff=Payoff_Asian_Option\n",
    "\n",
    "\n",
    "t1_MLMC_Euler=time()\n",
    "NL_Euler,P_MLMC_Euler,S_Vl_Euler,cost,L=MLMC(eps,N0,M,x,BS_Scheme,Payoff,r,sigma,T,K)\n",
    "t2_MLMC_Euler=time()\n",
    "\n",
    "print(\"time=\",t2_MLMC_Euler-t1_MLMC_Euler,\"\\n\")"
   ]
  },
  {
   "cell_type": "code",
   "execution_count": 83,
   "metadata": {},
   "outputs": [
    {
     "name": "stdout",
     "output_type": "stream",
     "text": [
      "Estimator= 0.05412219898026498\n",
      "Condidence interval 95%: [0.05300970186005626, 0.05523469610047369]\n",
      "Error: 2.0555283066276986 % \n",
      "\n",
      "Computational Cost= 53140.0\n",
      "Number of samples NL= [10000.   100.   132.   100.   100.]\n",
      "L= 4\n",
      "eps= 0.01\n",
      "time= 0.05965375900268555 \n",
      "\n",
      "Estimator= 0.0495535375986385\n",
      "Condidence interval 95%: [0.04870584213551589, 0.050401233061761114]\n",
      "Error: 1.7106658862351352 % \n",
      "\n",
      "Computational Cost= 20500.0\n",
      "Number of samples NL= [10000.   100.   100.   100.]\n",
      "L= 3\n",
      "eps= 0.01\n",
      "time= 0.045212745666503906\n",
      "EULER PERF=  0.25057063947992914\n",
      "MILSTEIN PERF= 0.09666349471845216\n",
      "Mil Var= 1.926658751938298e-05\n",
      "EUl Var= 2.6473735501956684e-05\n"
     ]
    }
   ],
   "source": [
    "eps=0.01\n",
    "N0=10**4\n",
    "M=4\n",
    "\n",
    "# Multilevel Monte Carlo estimator with Euler Scheme for Asian Option\n",
    "BS_Scheme=BS_Euler_Scheme\n",
    "Payoff=Payoff_Asian_Option\n",
    "\n",
    "\n",
    "t1_MLMC_Euler=time()\n",
    "NL_Euler,P_MLMC_Euler,S_Vl_Euler,cost_Euler,L_Euler=MLMC(eps,N0,M,x,BS_Scheme,Payoff,r,sigma,T,K)\n",
    "t2_MLMC_Euler=time()\n",
    "\n",
    "print(\"time=\",t2_MLMC_Euler-t1_MLMC_Euler,\"\\n\")\n",
    "\n",
    "# Multilevel Monte Carlo estimator with Milstein Scheme for Asian Option\n",
    "\n",
    "BS_Scheme=BS_Milstein_Scheme\n",
    "Payoff=Payoff_Asian_Option\n",
    "\n",
    "\n",
    "t1_MLMC_Milstein=time()\n",
    "NL_Misltein,P_MLMC_Milstein,S_Vl_Milstein,cost_Milstein,L_Milstein=MLMC(eps,N0,M,x,BS_Scheme,Payoff,r,sigma,T,K)\n",
    "t2_MLMC_Milstein=time()\n",
    "\n",
    "\n",
    "print(\"time=\",t2_MLMC_Milstein-t1_MLMC_Milstein)\n",
    "\n",
    "ML_Euler=M**np.arange(L_Euler+1)\n",
    "NM_Euler=sum(NL_Euler*ML_Euler)\n",
    "## O(e**-2loge**2)\n",
    "perf=eps**(-2)*(np.log(eps)**2)\n",
    "print(\"EULER PERF= \",cost_Euler/perf)\n",
    "\n",
    "ML_Milstein=M**np.arange(L_Milstein+1)\n",
    "NM_Milstein=sum(NL_Misltein*ML_Milstein)\n",
    "\n",
    "print(\"MILSTEIN PERF=\", cost_Milstein/perf)\n",
    "\n",
    "print(\"Mil Var=\", S_Vl_Milstein)\n",
    "print(\"EUl Var=\", S_Vl_Euler)"
   ]
  },
  {
   "cell_type": "markdown",
   "metadata": {},
   "source": [
    " **For the Classic Monte Carlo from $\\epsilon = 10^{-3}$ and lower, sufficient RAM is necessary, we advise not getting below $\\epsilon = 10^{-2}$**"
   ]
  },
  {
   "cell_type": "code",
   "execution_count": 44,
   "metadata": {},
   "outputs": [
    {
     "name": "stdout",
     "output_type": "stream",
     "text": [
      "Estimator= 0.05304008494901835\n",
      "Condidence interval 95%: [0.051973512221947335, 0.05410665767608937]\n",
      "Error: 2.0108805031066552 % \n",
      "\n",
      "Computational Cost= 2840000.0\n",
      "Number of samples= 20000.0\n",
      "Steps= 142.0\n",
      "eps= 0.01 \n",
      "\n",
      "time= 0.22080516815185547 \n",
      "\n",
      "Estimator= 0.05323884134474804\n",
      "Condidence interval 95%: [0.05217465095728912, 0.054303031732206956]\n",
      "Error: 1.9988984744573117 % \n",
      "\n",
      "Computational Cost= 2840000.0\n",
      "Number of samples= 20000.0\n",
      "Steps= 142.0\n",
      "eps= 0.01 \n",
      "\n",
      "time= 0.2150411605834961 \n",
      "\n",
      "Estimator= 0.054092644277736975\n",
      "Condidence interval 95%: [0.05301033851136193, 0.05517495004411202]\n",
      "Error: 2.000837231801762 % \n",
      "\n",
      "Computational Cost= 2840000.0\n",
      "Number of samples= 20000.0\n",
      "Steps= 142.0\n",
      "eps= 0.01 \n",
      "\n",
      "time= 0.28547191619873047 \n",
      "\n"
     ]
    }
   ],
   "source": [
    "eps=0.01\n",
    "\n",
    "#Asian Option with Classic MC and Explicit solution of Black-Scholes SDE\n",
    "Payoff=Payoff_Asian_Option\n",
    "BS_Scheme=BS_Explicit\n",
    "\n",
    "t1_Asian_Explicit=time()\n",
    "AsianOption_Explicit,N_Explicit,M_Explicit,Var_Explicit=MC(eps,x,BS_Scheme,Payoff,1,r,sigma,T,K)\n",
    "t2_Asian_Explicit=time()\n",
    "\n",
    "print(\"time=\",t2_Asian_Explicit-t1_Asian_Explicit,\"\\n\")\n",
    "\n",
    "#Asian Option with Classic MC and Euler \n",
    "Payoff=Payoff_Asian_Option\n",
    "BS_Scheme=BS_Euler_Scheme\n",
    "\n",
    "t1_Asian_Euler=time()\n",
    "AsianOption_Euler,N_Euler,M_Euler,Var_Euler=MC(eps,x,BS_Scheme,Payoff,1,r,sigma,T,K)\n",
    "t2_Asian_Euler=time()\n",
    "\n",
    "print(\"time=\",t2_Asian_Euler-t1_Asian_Euler,\"\\n\")\n",
    "\n",
    "#Asian Option with Classic MC and Milstein \n",
    "Payoff=Payoff_Asian_Option\n",
    "BS_Scheme=BS_Milstein_Scheme\n",
    "\n",
    "t1_Asian_Milstein=time()\n",
    "AsianOption_Milstein,N_Milstein,M_Milstein,Var_Milstein=MC(eps,x,BS_Scheme,Payoff,1,r,sigma,T,K)\n",
    "t2_Asian_Milstein=time()\n",
    "\n",
    "print(\"time=\",t2_Asian_Milstein-t1_Asian_Milstein,\"\\n\")\n"
   ]
  },
  {
   "cell_type": "markdown",
   "metadata": {},
   "source": [
    "#### Brief Variance Analysis"
   ]
  },
  {
   "cell_type": "code",
   "execution_count": 45,
   "metadata": {},
   "outputs": [
    {
     "name": "stdout",
     "output_type": "stream",
     "text": [
      "0.00034316987809263186\n",
      "0.0003407257518559351\n",
      "0.00034393811205141807\n",
      "0.00033577276000059406\n"
     ]
    }
   ],
   "source": [
    "VarC_MCExplicit_vs_MLMC_Euler = S_Vl_Euler/Var_Explicit #Variance MLMC  / Variance MC\n",
    "VarC_MCExplicit_vs_MLMC_Milstein=S_Vl_Milstein/Var_Explicit\n",
    "VarC_MCEuler_vs_MLMC_Euler= S_Vl_Euler/Var_Euler\n",
    "VarC_MCMilstein_vs_MLMC_Milstein=S_Vl_Milstein/Var_Milstein\n",
    "print(VarC_MCExplicit_vs_MLMC_Euler )\n",
    "print(VarC_MCExplicit_vs_MLMC_Milstein )\n",
    "print(VarC_MCEuler_vs_MLMC_Euler)\n",
    "print(VarC_MCMilstein_vs_MLMC_Milstein )\n"
   ]
  },
  {
   "cell_type": "markdown",
   "metadata": {},
   "source": [
    "### c. Lookback Option"
   ]
  },
  {
   "cell_type": "markdown",
   "metadata": {},
   "source": [
    "For $\\epsilon = 10^{-3}$  \n",
    "\n",
    "We can see that the variance of the MLMC estimator is far lower than the variance of the classic Monte Carlo estimator $ \\frac{Var_{MLMC}}{Var_{MC}} \\approx 10^{-6} $\n",
    "\n",
    "The timing of MLMC is about $\\approx 0.20$ sec while for the classic Monte Carlo  $\\approx 0.60$ sec. The MLMC is 3 times faster and provide a much lower variance.\n",
    "\n",
    "Also, it is important to notice that with the classic Monte Carlo if we want to choose $\\epsilon = 10^{-4}$ or lower, sufficient RAM is needed while for the MLMC we can go to $\\epsilon = \\frac{10^{-4}}{2}$ as shown below. However the timing would be $\\approx 140$ secs."
   ]
  },
  {
   "cell_type": "code",
   "execution_count": 46,
   "metadata": {},
   "outputs": [
    {
     "name": "stdout",
     "output_type": "stream",
     "text": [
      "Estimator= 0.17219157009805192\n",
      "Condidence interval 95%: [0.17216247229607623, 0.1722206679000276]\n",
      "Error: 0.01689850551866295 % \n",
      "\n",
      "Computational Cost= 462125685.0\n",
      "Number of samples NL= [7.2479775e+07 1.0489170e+07 3.0658390e+06 8.3034900e+05 2.1543600e+05\n",
      " 5.4702000e+04 1.3769000e+04]\n",
      "L= 6\n",
      "eps= 5e-05\n",
      "time= 140.48059511184692 \n",
      "\n"
     ]
    }
   ],
   "source": [
    "eps=0.5*10**(-4)\n",
    "N0=10**4\n",
    "M=4\n",
    "\n",
    "# Multilevel Monte Carlo estimator with Euler Scheme for Lookback Option\n",
    "BS_Scheme=BS_Euler_Scheme\n",
    "Payoff=Payoff_Lookback_Option\n",
    "\n",
    "\n",
    "t1_MLMC_Euler=time()\n",
    "NL_Euler,P_MLMC_Euler,S_Vl_Euler,cost,L=MLMC(eps,N0,M,x,BS_Scheme,Payoff,r,sigma,T,K)\n",
    "t2_MLMC_Euler=time()\n",
    "\n",
    "print(\"time=\",t2_MLMC_Euler-t1_MLMC_Euler,\"\\n\")\n"
   ]
  },
  {
   "cell_type": "code",
   "execution_count": 48,
   "metadata": {},
   "outputs": [
    {
     "name": "stdout",
     "output_type": "stream",
     "text": [
      "Estimator= 0.17276362012215252\n",
      "Condidence interval 95%: [0.17198895345737472, 0.1735382867869303]\n",
      "Error: 0.4483968697982054 % \n",
      "\n",
      "Computational Cost= 354073.0\n",
      "Number of samples NL= [101448.  14585.   4341.   1161.]\n",
      "L= 3\n",
      "eps= 0.001\n",
      "time= 0.24638795852661133 \n",
      "\n",
      "Estimator= 0.17220626983304518\n",
      "Condidence interval 95%: [0.17141978908940292, 0.17299275057668745]\n",
      "Error: 0.45670854168362585 % \n",
      "\n",
      "Computational Cost= 397103.0\n",
      "Number of samples NL= [119358.  15873.   4619.   1325.]\n",
      "L= 3\n",
      "eps= 0.001\n",
      "time= 0.40410494804382324\n",
      "EULER PERF=  0.007420256599554798\n",
      "MILSTEIN PERF= 0.008322030079822547\n"
     ]
    }
   ],
   "source": [
    "eps=0.001\n",
    "N0=10**4\n",
    "M=4\n",
    "\n",
    "# Multilevel Monte Carlo estimator with Euler Scheme for Lookback Option\n",
    "BS_Scheme=BS_Euler_Scheme\n",
    "Payoff=Payoff_Lookback_Option\n",
    "\n",
    "\n",
    "t1_MLMC_Euler=time()\n",
    "NL_Euler,P_MLMC_Euler,S_Vl_Euler,cost_Euler,L_Euler=MLMC(eps,N0,M,x,BS_Scheme,Payoff,r,sigma,T,K)\n",
    "t2_MLMC_Euler=time()\n",
    "\n",
    "print(\"time=\",t2_MLMC_Euler-t1_MLMC_Euler,\"\\n\")\n",
    "\n",
    "# Multilevel Monte Carlo estimator with Milstein Scheme for Lookback Option\n",
    "\n",
    "BS_Scheme=BS_Milstein_Scheme\n",
    "Payoff=Payoff_Lookback_Option\n",
    "\n",
    "\n",
    "t1_MLMC_Milstein=time()\n",
    "NL_Misltein,P_MLMC_Milstein,S_Vl_Milstein,cost_Milstein,L_Milstein=MLMC(eps,N0,M,x,BS_Scheme,Payoff,r,sigma,T,K)\n",
    "t2_MLMC_Milstein=time()\n",
    "\n",
    "\n",
    "print(\"time=\",t2_MLMC_Milstein-t1_MLMC_Milstein)\n",
    "\n",
    "\n",
    "ML_Euler=M**np.arange(L_Euler+1)\n",
    "NM_Euler=sum(NL_Euler*ML_Euler)\n",
    "## O(e**-2loge**2)\n",
    "perf=eps**(-2)*(np.log(eps)**2)\n",
    "print(\"EULER PERF= \",cost_Euler/perf)\n",
    "\n",
    "ML_Milstein=M**np.arange(L_Milstein+1)\n",
    "NM_Milstein=sum(NL_Misltein*ML_Milstein)\n",
    "\n",
    "print(\"MILSTEIN PERF=\", cost_Milstein/perf)\n",
    "\n"
   ]
  },
  {
   "cell_type": "markdown",
   "metadata": {},
   "source": [
    "**From $\\epsilon = 10^{-4}$ and lower, sufficient RAM is necessary, we advise not getting below $\\epsilon = 10^{-3}$**"
   ]
  },
  {
   "cell_type": "code",
   "execution_count": 48,
   "metadata": {},
   "outputs": [
    {
     "name": "stdout",
     "output_type": "stream",
     "text": [
      "Estimator= 0.17178010558249765\n",
      "Condidence interval 95%: [0.17044370681706464, 0.17311650434793066]\n",
      "Error: 0.7779706275655992 % \n",
      "\n",
      "Computational Cost= 9592029.0\n",
      "Number of samples= 45033.0\n",
      "Steps= 213.0\n",
      "eps= 0.001 \n",
      "\n",
      "time= 0.629957914352417 \n",
      "\n",
      "Estimator= 0.1716669386169851\n",
      "Condidence interval 95%: [0.17022896099503249, 0.1731049162389377]\n",
      "Error: 0.8376555401625464 % \n",
      "\n",
      "Computational Cost= 7757046.0\n",
      "Number of samples= 39177.0\n",
      "Steps= 198.0\n",
      "eps= 0.001 \n",
      "\n",
      "time= 0.7453758716583252 \n",
      "\n",
      "Estimator= 0.17231642099276415\n",
      "Condidence interval 95%: [0.17090646153985087, 0.17372638044567743]\n",
      "Error: 0.8182385896771223 % \n",
      "\n",
      "Computational Cost= 8356901.0\n",
      "Number of samples= 41167.0\n",
      "Steps= 203.0\n",
      "eps= 0.001 \n",
      "\n",
      "time= 1.0326929092407227 \n",
      "\n"
     ]
    }
   ],
   "source": [
    "eps=0.001\n",
    "\n",
    "#Lookback Option with Classic MC and Explicit solution of Black-Scholes SDE\n",
    "Payoff=Payoff_Lookback_Option\n",
    "BS_Scheme=BS_Explicit\n",
    "\n",
    "n,M=10**4,4 # For the pre-routine estimation of Var(P)\n",
    "Var_Esti_Explicit=pre_routine_Var(n,M,Payoff,BS_Scheme,r,sigma,T,K)\n",
    "\n",
    "t1_Lookback_Explicit=time()\n",
    "LookbackOption_Explicit,N_Explicit,M_Explicit,Var_Explicit=MC(eps,x,BS_Scheme,Payoff,Var_Esti_Explicit,r,sigma,T,K)\n",
    "t2_Lookback_Explicit=time()\n",
    "\n",
    "print(\"time=\",t2_Lookback_Explicit-t1_Lookback_Explicit,\"\\n\")\n",
    "\n",
    "#Lookback Option with Classic MC and Euler \n",
    "Payoff=Payoff_Lookback_Option\n",
    "BS_Scheme=BS_Euler_Scheme\n",
    "\n",
    "Var_Esti_Euler=pre_routine_Var(n,M,Payoff,BS_Scheme,r,sigma,T,K)\n",
    "\n",
    "t1_Lookback_Euler=time()\n",
    "LookbackOption_Euler,N_Euler,M_Euler,Var_Euler=MC(eps,x,BS_Scheme,Payoff,Var_Esti_Euler,r,sigma,T,K)\n",
    "t2_Lookback_Euler=time()\n",
    "\n",
    "print(\"time=\",t2_Lookback_Euler-t1_Lookback_Euler,\"\\n\")\n",
    "\n",
    "#Lookback Option with Classic MC and Milstein \n",
    "Payoff=Payoff_Lookback_Option\n",
    "BS_Scheme=BS_Milstein_Scheme\n",
    "\n",
    "Var_Esti_Milstein=pre_routine_Var(n,M,Payoff,BS_Scheme,r,sigma,T,K)\n",
    "\n",
    "t1_Lookback_Milstein=time()\n",
    "LookbackOption_Milstein,N_Milstein,M_Milstein,Var_Milstein=MC(eps,x,BS_Scheme,Payoff,Var_Esti_Milstein,r,sigma,T,K)\n",
    "t2_Lookback_Milstein=time()\n",
    "\n",
    "print(\"time=\",t2_Lookback_Milstein-t1_Lookback_Milstein,\"\\n\")\n"
   ]
  },
  {
   "cell_type": "markdown",
   "metadata": {},
   "source": [
    "#### Brief Variance Analysis"
   ]
  },
  {
   "cell_type": "code",
   "execution_count": 49,
   "metadata": {},
   "outputs": [
    {
     "name": "stdout",
     "output_type": "stream",
     "text": [
      "3.3258917601304566e-06\n",
      "3.412681681379157e-06\n",
      "3.3139190908251407e-06\n",
      "3.3831094915127964e-06\n"
     ]
    }
   ],
   "source": [
    "VarC_MCExplicit_vs_MLMC_Euler = S_Vl_Euler/Var_Explicit #Variance MLMC  / Variance MC\n",
    "VarC_MCExplicit_vs_MLMC_Milstein=S_Vl_Milstein/Var_Explicit\n",
    "VarC_MCEuler_vs_MLMC_Euler= S_Vl_Euler/Var_Euler\n",
    "VarC_MCMilstein_vs_MLMC_Milstein=S_Vl_Milstein/Var_Milstein\n",
    "print(VarC_MCExplicit_vs_MLMC_Euler )\n",
    "print(VarC_MCExplicit_vs_MLMC_Milstein )\n",
    "print(VarC_MCEuler_vs_MLMC_Euler)\n",
    "print(VarC_MCMilstein_vs_MLMC_Milstein )\n"
   ]
  },
  {
   "cell_type": "markdown",
   "metadata": {},
   "source": [
    "### d. Digital Option "
   ]
  },
  {
   "cell_type": "markdown",
   "metadata": {},
   "source": [
    "##### MLMC Euler/Milstein Scheme  vs Classic MC with Explicit solution "
   ]
  },
  {
   "cell_type": "markdown",
   "metadata": {},
   "source": [
    "$\\epsilon = 10^{-2}$\n",
    "\n",
    ". Our MLMC estimator , with Euler discretisation and with Milstein discretisation, provided an $MSE \\approx 10^{-4}$ and often $MSE \\approx 10^{-5}$\n",
    "\n",
    "The classic Monte Carlo with explicit solution provided an $MSE \\approx 10^{-4}$. \n",
    "\n",
    ". Timing $\\approx  0.02$ sec for the MLMC with Euler, same for Milstein; \n",
    "\n",
    "$\\approx  0.02$ sec for the classique MC with explicit solution;\n"
   ]
  },
  {
   "cell_type": "markdown",
   "metadata": {},
   "source": [
    "Also, it is important to notice that with the classic Monte Carlo if we want to choose $\\epsilon = 10^{-3}$ or lower, sufficient RAM is needed while for the MLMC we can go to $\\epsilon = \\frac{10^{-3}}{2}$ as shown below. However the timing would be $\\approx 25$ secs."
   ]
  },
  {
   "cell_type": "code",
   "execution_count": 35,
   "metadata": {},
   "outputs": [
    {
     "name": "stdout",
     "output_type": "stream",
     "text": [
      "Digital Option Exact value= 0.5323248154537634 \n",
      "\n",
      "Estimator= 0.5342647559670823\n",
      "Condidence interval 95%: [0.5339877087844977, 0.5345418031496669]\n",
      "Error: 0.05185578488760713 % \n",
      "\n",
      "Computational Cost= 77267936.0\n",
      "Number of samples NL= [1.0535606e+07 1.8302300e+06 7.3379500e+05 1.0000000e+02 1.3365400e+05\n",
      " 1.0000000e+02]\n",
      "L= 5\n",
      "eps= 0.0005\n",
      "Weak_Error_squared MLMC Euler= 3.7633691952160603e-06\n",
      "MSE MLMC Euler= 3.8525154274997945e-06 \n",
      "\n",
      "time= 29.722928762435913 \n",
      "\n"
     ]
    }
   ],
   "source": [
    "eps=0.5*10**(-3)\n",
    "N0=10**4\n",
    "M=4\n",
    "# Digital Option Exact value\n",
    "BS_Digital=Digital_BS(r,sigma,x,K,T)\n",
    "print(\"Digital Option Exact value=\",BS_Digital,\"\\n\")\n",
    "\n",
    "# Multilevel Monte Carlo estimator with Euler Scheme for Digital Option\n",
    "BS_Scheme=BS_Euler_Scheme\n",
    "Payoff=Payoff_Digital_Option\n",
    "\n",
    "\n",
    "t1_MLMC_Euler=time()\n",
    "NL_Euler,P_MLMC_Euler,S_Vl,cost,L=MLMC(eps,N0,M,x,BS_Scheme,Payoff,r,sigma,T,K)\n",
    "t2_MLMC_Euler=time()\n",
    "\n",
    "MSE_MLMC_Euler=S_Vl+(P_MLMC_Euler-BS_Digital)**2\n",
    "Weak_Error_squared_MLMC_Euler=(P_MLMC_Euler-BS_Digital)**2\n",
    "\n",
    "print(\"Weak_Error_squared MLMC Euler=\",Weak_Error_squared_MLMC_Euler)\n",
    "print(\"MSE MLMC Euler=\", MSE_MLMC_Euler,\"\\n\")\n",
    "\n",
    "print(\"time=\",t2_MLMC_Euler-t1_MLMC_Euler,\"\\n\")\n"
   ]
  },
  {
   "cell_type": "code",
   "execution_count": 57,
   "metadata": {},
   "outputs": [
    {
     "name": "stdout",
     "output_type": "stream",
     "text": [
      "Estimator= 0.49240097569944286\n",
      "Condidence interval 95%: [0.48313992031665337, 0.5016620310822324]\n",
      "Error: 1.880795497944414 % \n",
      "\n",
      "Computational Cost= 18600.0\n",
      "Number of samples NL= [10000.   100.   405.]\n",
      "L= 2\n",
      "eps= 0.01\n",
      "Weak_Error_squared MLMC Euler= 0.0015939129807286674\n",
      "MSE MLMC Euler= 0.0016377020737313617 \n",
      "\n",
      "time= 0.019194841384887695 \n",
      "\n",
      "Estimator= 0.5305957729864395\n",
      "Condidence interval 95%: [0.5213534093559221, 0.5398381366169568]\n",
      "Error: 1.7418841425171923 % \n",
      "\n",
      "Computational Cost= 12500.0\n",
      "Number of samples NL= [10000.   100.   100.]\n",
      "L= 2\n",
      "eps= 0.01\n",
      "Weak_Error_squared MLMC Euler= 2.989587853809766e-06\n",
      "MSE MLMC Milstein= 2.567016656796098e-05 \n",
      "\n",
      "time= 0.0283200740814209\n",
      "EULER PERF=  0.08770443911040049\n",
      "MILSTEIN PERF= 0.05894115531612937\n"
     ]
    }
   ],
   "source": [
    "eps=10**(-2)\n",
    "N0=10**4\n",
    "M=4\n",
    "\n",
    "BS_Digital=Digital_BS(r,sigma,x,K,T)\n",
    "# Multilevel Monte Carlo estimator with Euler Scheme for Digital Option\n",
    "BS_Scheme=BS_Euler_Scheme\n",
    "Payoff=Payoff_Digital_Option\n",
    "\n",
    "\n",
    "t1_MLMC_Euler=time()\n",
    "NL_Euler,P_MLMC_Euler,S_Vl,cost_Euler,L_Euler=MLMC(eps,N0,M,x,BS_Scheme,Payoff,r,sigma,T,K)\n",
    "t2_MLMC_Euler=time()\n",
    "\n",
    "MSE_MLMC_Euler=S_Vl+(P_MLMC_Euler-BS_Digital)**2\n",
    "Weak_Error_squared_MLMC_Euler=(P_MLMC_Euler-BS_Digital)**2\n",
    "\n",
    "print(\"Weak_Error_squared MLMC Euler=\",Weak_Error_squared_MLMC_Euler)\n",
    "print(\"MSE MLMC Euler=\", MSE_MLMC_Euler,\"\\n\")\n",
    "\n",
    "print(\"time=\",t2_MLMC_Euler-t1_MLMC_Euler,\"\\n\")\n",
    "\n",
    "# Multilevel Monte Carlo estimator with Milstein Scheme for Digital Optionz\n",
    "\n",
    "BS_Scheme=BS_Milstein_Scheme\n",
    "Payoff=Payoff_Digital_Option\n",
    "\n",
    "\n",
    "t1_MLMC_Milstein=time()\n",
    "NL_Misltein,P_MLMC_Milstein,S_Vl,cost_Milstein,L_Milstein=MLMC(eps,N0,M,x,BS_Scheme,Payoff,r,sigma,T,K)\n",
    "t2_MLMC_Milstein=time()\n",
    "\n",
    "MSE_MLMC_Milstein=S_Vl+(P_MLMC_Milstein-BS_Digital)**2\n",
    "Weak_Error_squared_MLMC_Milstein=(P_MLMC_Milstein-BS_Digital)**2\n",
    "\n",
    "print(\"Weak_Error_squared MLMC Euler=\",Weak_Error_squared_MLMC_Milstein)\n",
    "print(\"MSE MLMC Milstein=\", MSE_MLMC_Milstein,\"\\n\")\n",
    "\n",
    "print(\"time=\",t2_MLMC_Milstein-t1_MLMC_Milstein)\n",
    "\n",
    "ML_Euler=M**np.arange(L_Euler+1)\n",
    "NM_Euler=sum(NL_Euler*ML_Euler)\n",
    "## O(e**-2loge**2)\n",
    "perf=eps**(-2)*(np.log(eps)**2)\n",
    "print(\"EULER PERF= \",cost_Euler/perf)\n",
    "\n",
    "ML_Milstein=M**np.arange(L_Milstein+1)\n",
    "NM_Milstein=sum(NL_Misltein*ML_Milstein)\n",
    "\n",
    "print(\"MILSTEIN PERF=\", cost_Milstein/perf)\n"
   ]
  },
  {
   "cell_type": "code",
   "execution_count": null,
   "metadata": {},
   "outputs": [],
   "source": []
  },
  {
   "cell_type": "code",
   "execution_count": null,
   "metadata": {},
   "outputs": [],
   "source": []
  },
  {
   "cell_type": "code",
   "execution_count": null,
   "metadata": {},
   "outputs": [],
   "source": []
  },
  {
   "cell_type": "code",
   "execution_count": null,
   "metadata": {},
   "outputs": [],
   "source": []
  },
  {
   "cell_type": "markdown",
   "metadata": {},
   "source": [
    "  **From $\\epsilon = 10^{-3}$ and lower, sufficient RAM is necessary, we advise not getting below $\\epsilon = 10^{-2}$**"
   ]
  },
  {
   "cell_type": "code",
   "execution_count": 51,
   "metadata": {},
   "outputs": [
    {
     "name": "stdout",
     "output_type": "stream",
     "text": [
      "Estimator= 0.5330220173702584\n",
      "Condidence interval 95%: [0.5191482853008117, 0.5468957494397052]\n",
      "Error: 2.6028440884852864 % \n",
      "\n",
      "Computational Cost= 298083.0\n",
      "Number of samples= 4449.0\n",
      "Steps= 67.0\n",
      "eps= 0.01 \n",
      "\n",
      "MSE MC Explicit Digital= 0.00010660823778121741 \n",
      "\n",
      "time= 0.03876018524169922\n"
     ]
    }
   ],
   "source": [
    "\n",
    "eps=10**(-2)\n",
    "\n",
    "#Digital Option with Classic MC and Explicit solution of Black-Scholes SDE\n",
    "Payoff=Payoff_Digital_Option\n",
    "BS_Scheme=BS_Explicit\n",
    "\n",
    "n=10**4 # For the pre-routine estimation of Var(P)\n",
    "M=4\n",
    "Var_Esti_Explicit=pre_routine_Var(n,M,Payoff,BS_Scheme,r,sigma,T,K)\n",
    "\n",
    "\n",
    "t1_MC_Explicit=time()\n",
    "Digital_Explicit,N_Explicit,M_Explicit,Var_Explicit=MC(eps,x,BS_Scheme,Payoff,Var_Esti_Explicit,r,sigma,T,K)\n",
    "t2_MC_Explicit=time()\n",
    "\n",
    "\n",
    "MSE_Explicit_Digital=Var_Explicit/N_Explicit+(Digital_Explicit-BS_Digital)**2\n",
    "\n",
    "print(\"MSE MC Explicit Digital=\",MSE_Explicit_Digital,\"\\n\")\n",
    "\n",
    "print(\"time=\",t2_MC_Explicit-t1_MC_Explicit)\n",
    "\n"
   ]
  },
  {
   "cell_type": "markdown",
   "metadata": {},
   "source": [
    "##### MLMC Euler/Milstein Scheme  vs Classic MC Euler/Milstein"
   ]
  },
  {
   "cell_type": "markdown",
   "metadata": {},
   "source": [
    "We see that for the same time of execution the MLMC has a better MSE than the classic Monte Carlo."
   ]
  },
  {
   "cell_type": "code",
   "execution_count": 52,
   "metadata": {},
   "outputs": [
    {
     "name": "stdout",
     "output_type": "stream",
     "text": [
      "Estimator= 0.5285799214143958\n",
      "Condidence interval 95%: [0.5146706040948986, 0.542489238733893]\n",
      "Error: 2.6314501849177527 % \n",
      "\n",
      "Computational Cost= 297212.0\n",
      "Number of samples= 4436.0\n",
      "Steps= 67.0\n",
      "eps= 0.01 \n",
      "\n",
      "Weak_Error_squared MLMC Euler= 0.0001778954831031673\n",
      "MSE MC Euler Digital= 0.0001205743591509315 \n",
      "\n",
      "time= 0.02007293701171875 \n",
      "\n",
      "Estimator= 0.5273027154153108\n",
      "Condidence interval 95%: [0.5134453532443091, 0.5411600775863126]\n",
      "Error: 2.627970948355073 % \n",
      "\n",
      "Computational Cost= 299624.0\n",
      "Number of samples= 4472.0\n",
      "Steps= 67.0\n",
      "eps= 0.01 \n",
      "\n",
      "Weak_Error_squared MLMC Milstein= 2.719551922243493e-05\n",
      "MSE MC Milstein Digital= 0.0001309138785219752 \n",
      "\n",
      "time= 0.019869089126586914\n"
     ]
    }
   ],
   "source": [
    "eps=10**(-2)\n",
    "\n",
    "#Digital Option with Classic MC and Euler\n",
    "Payoff=Payoff_Digital_Option\n",
    "BS_Scheme=BS_Euler_Scheme\n",
    "\n",
    "n=10**4 # For the pre-routine estimation of Var(P)\n",
    "M=4\n",
    "Var_Esti_Euler=pre_routine_Var(n,M,Payoff,BS_Scheme,r,sigma,T,K)\n",
    "\n",
    "\n",
    "t1_MC_Euler=time()\n",
    "Digital_Euler,N_Euler,M_Euler,Var_Euler=MC(eps,x,BS_Scheme,Payoff,Var_Esti_Euler,r,sigma,T,K)\n",
    "t2_MC_Euler=time()\n",
    "\n",
    "\n",
    "Weak_Error_squared_MC_Euler=(Digital_Euler-BS_Digital)**2\n",
    "MSE_Euler_Digital=Var_Euler/N_Euler+(Digital_Euler-BS_Digital)**2\n",
    "\n",
    "print(\"Weak_Error_squared MLMC Euler=\",Weak_Error_squared_MLMC_Euler)\n",
    "print(\"MSE MC Euler Digital=\",MSE_Euler_Digital,\"\\n\")\n",
    "\n",
    "print(\"time=\",t2_MC_Euler-t1_MC_Euler,\"\\n\")\n",
    "\n",
    "#Digital Option with Classic MC and Euler\n",
    "Payoff=Payoff_Digital_Option\n",
    "BS_Scheme=BS_Milstein_Scheme\n",
    "\n",
    "n=10**4 # For the pre-routine estimation of Var(P)\n",
    "M=4\n",
    "Var_Esti_Milstein=pre_routine_Var(n,M,Payoff,BS_Scheme,r,sigma,T,K)\n",
    "\n",
    "\n",
    "t1_MC_Milstein=time()\n",
    "Digital_Milstein,N_Milstein,M_Milstein,Var_Milstein=MC(eps,x,BS_Scheme,Payoff,Var_Esti_Milstein,r,sigma,T,K)\n",
    "t2_MC_Milstein=time()\n",
    "\n",
    "Weak_Error_squared_MC_Milstein=(Digital_Milstein-BS_Digital)**2\n",
    "MSE_Milstein_Digital=Var_Euler/N_Milstein+(Digital_Milstein-BS_Digital)**2\n",
    "\n",
    "print(\"Weak_Error_squared MLMC Milstein=\",Weak_Error_squared_MLMC_Milstein)\n",
    "print(\"MSE MC Milstein Digital=\",MSE_Milstein_Digital,\"\\n\")\n",
    "\n",
    "print(\"time=\",t2_MC_Milstein-t1_MC_Milstein)"
   ]
  },
  {
   "cell_type": "markdown",
   "metadata": {},
   "source": [
    "# V. Heston Stochastic Volatility Model"
   ]
  },
  {
   "cell_type": "markdown",
   "metadata": {},
   "source": [
    "Under the Heston Model the price of a financial asset has the following dynamics:"
   ]
  },
  {
   "cell_type": "markdown",
   "metadata": {},
   "source": [
    "$\n",
    "\\begin{array}{l}\n",
    "\\mathrm{d} S=r S \\mathrm{~d} t+\\sqrt{V} S \\mathrm{~d} W^{1}_{t} \\quad 0<t<T \\\\\n",
    "\\mathrm{~d} V=\\lambda\\left(\\sigma^{2}-V\\right) \\mathrm{d} t+\\xi \\sqrt{V} \\mathrm{~d} W^{2}_{t}\n",
    "\\end{array}\n",
    "$"
   ]
  },
  {
   "cell_type": "markdown",
   "metadata": {},
   "source": [
    "$d W_ {t} ^ {2} = \\rho d W_ {t} ^ {1} + \\sqrt {1 - \\rho ^ {2}} d Z_ {t} $\n",
    "\n",
    "Where, $~~  W_ {t_i} ^ {1}- W_ {t_{i-1}} ^ {1} \\sim \\mathcal {N} (0,\\Delta t) $ and are independent of\n",
    "$~~ Z_ {t_i}- Z_ {t_{i-1}}\\sim \\mathcal {N} (0,\\Delta t)$"
   ]
  },
  {
   "cell_type": "markdown",
   "metadata": {},
   "source": [
    "### Heston model and Euler discretisation"
   ]
  },
  {
   "cell_type": "markdown",
   "metadata": {},
   "source": [
    "Let $B=e^{\\lambda t}(V-\\sigma^{2})$\n",
    "\n",
    "I.P.P gives :\n",
    "\n",
    "$\\mathrm{d} B = \\mathrm{d} e^{\\lambda t}(V-\\sigma^{2})$\n",
    "\n",
    "$\\mathrm{d} B = e^{\\lambda t} \\xi \\sqrt{V} \\mathrm{~d} W^{2}_{t}$\n",
    "\n",
    "Euler discretisation to the SDEs for $B$ and $X$, which results in the discrete equations\n",
    "\n",
    "$$\n",
    "\\begin{array}{l}\n",
    "\\hat{X}_{t_{i+1}}=\\hat{X}_{t_i}+r \\hat{X}_{t_i} h+\\sqrt{\\hat{V}_{t_i}^{+}} \\hat{X}_{t_i} \\Delta W^{1}_{t_i} \\\\\n",
    "\\hat{V}_{t_{i+1}}=\\sigma^{2}+e^{-\\lambda h}\\left(\\hat{V}_{t_i}-\\sigma^{2}+\\xi \\sqrt{\\hat{V}_{t_i}^{+}} \\Delta W^{2}_{t_i}\\right)\n",
    "\\end{array}\n",
    "$$\n",
    "\n",
    "$$\\sqrt{V^{+}} \\equiv \\sqrt{\\max (V, 0)}$$"
   ]
  },
  {
   "cell_type": "markdown",
   "metadata": {},
   "source": [
    "Here we implement the Heston Model with the Euler Scheme"
   ]
  },
  {
   "cell_type": "code",
   "execution_count": 53,
   "metadata": {},
   "outputs": [],
   "source": [
    "def Heston_Euler_Scheme(x,DW1,r,sigma,T,m):\n",
    "    v,lambd,ksi,rho=0.04,5,0.25,-0.5\n",
    "    b=DW1.shape\n",
    "    h=T/m\n",
    "    DZ=np.random.randn(b[0],b[1])*np.sqrt(h)\n",
    "    DW2=rho*DW1+np.sqrt(1-rho**2)*DZ\n",
    "    \n",
    "   \n",
    "    Sbar_Euler=np.zeros(DW1.shape)\n",
    "    Vbar_Euler=np.zeros(DW1.shape)\n",
    "    Sbar_Euler=np.c_[x+np.zeros(len(DW1[:,0])),Sbar_Euler]\n",
    "    Vbar_Euler=np.c_[v+np.zeros(len(DW1[:,0])),Vbar_Euler]\n",
    "        \n",
    "    for i in range(m):\n",
    "        Vbar_Euler[:,i+1] = sigma**2 + np.exp(-lambd*h)*(Vbar_Euler[:,i]-sigma**2 + ksi*np.sqrt(np.maximum(Vbar_Euler[:,i],0))*DW2[:,i])\n",
    "        Sbar_Euler[:,i+1] = Sbar_Euler[:,i]*(1+r*h+np.sqrt(np.maximum(Vbar_Euler[:,i],0))*DW1[:,i])\n",
    "            \n",
    "    return(Sbar_Euler)"
   ]
  },
  {
   "cell_type": "markdown",
   "metadata": {},
   "source": [
    "We compare the Heston model to the explicit scheme, it permits to confirm that our implementation is correct."
   ]
  },
  {
   "cell_type": "code",
   "execution_count": 54,
   "metadata": {},
   "outputs": [
    {
     "data": {
      "text/plain": [
       "[<matplotlib.lines.Line2D at 0x7fc6206d2850>]"
      ]
     },
     "execution_count": 54,
     "metadata": {},
     "output_type": "execute_result"
    },
    {
     "data": {
      "image/png": "[encoded data removed]",
      "text/plain": [
       "<Figure size 432x288 with 1 Axes>"
      ]
     },
     "metadata": {
      "needs_background": "light"
     },
     "output_type": "display_data"
    }
   ],
   "source": [
    "m=1000\n",
    "DW1=np.random.randn(10**4,m)*np.sqrt(T/m)\n",
    "\n",
    "Y=Heston_Euler_Scheme(x,DW1,r,sigma,T,m)\n",
    "X=BS_Explicit(x,DW1,r,sigma,T,m)\n",
    "              \n",
    "plt.plot(Y[1,:],color=\"blue\")\n",
    "plt.plot(X[1,:],color=\"red\")\n",
    "        "
   ]
  },
  {
   "cell_type": "markdown",
   "metadata": {},
   "source": [
    "### European Call with Heston model and Euler Scheme"
   ]
  },
  {
   "cell_type": "code",
   "execution_count": 55,
   "metadata": {},
   "outputs": [
    {
     "name": "stdout",
     "output_type": "stream",
     "text": [
      "Estimator= 0.10527543740756411\n",
      "Condidence interval 95%: [0.10434505725682129, 0.10620581755830692]\n",
      "Error: 0.883758048081942 % \n",
      "\n",
      "Computational Cost= 158570.0\n",
      "Number of samples NL= [66885.  5001.  3334.]\n",
      "L= 2\n",
      "eps= 0.001\n",
      "Weak_Error_squared MLMC Euler= 5.922867546452559e-07\n",
      "MSE MLMC Euler= 1.0872152639541059e-06 \n",
      "\n",
      "time= 0.13577008247375488 \n",
      "\n"
     ]
    }
   ],
   "source": [
    "eps=0.001\n",
    "N0=10**4\n",
    "M=4\n",
    "\n",
    "# Multilevel Monte Carlo estimator with Euler Scheme for Euro Call\n",
    "BS_Scheme=Heston_Euler_Scheme\n",
    "Payoff=Payoff_Euro_Call\n",
    "\n",
    "\n",
    "\n",
    "t1_MLMC_Euler=time()\n",
    "NL_Euler,P_MLMC_Euler,S_Vl,cost,L=MLMC(eps,N0,M,x,BS_Scheme,Payoff,r,sigma,T,K)\n",
    "t2_MLMC_Euler=time()\n",
    "\n",
    "MSE_MLMC_Euler=S_Vl+(P_MLMC_Euler-Call_BS(r,sigma,x,K,T))**2\n",
    "Weak_Error_squared_MLMC_Euler=(P_MLMC_Euler-Call_BS(r,sigma,x,K,T))**2\n",
    "\n",
    "print(\"Weak_Error_squared MLMC Euler=\",Weak_Error_squared_MLMC_Euler)\n",
    "print(\"MSE MLMC Euler=\", MSE_MLMC_Euler,\"\\n\")\n",
    "\n",
    "print(\"time=\",t2_MLMC_Euler-t1_MLMC_Euler,\"\\n\")"
   ]
  },
  {
   "cell_type": "markdown",
   "metadata": {},
   "source": [
    "# VI. Illustration of the numerical results"
   ]
  },
  {
   "cell_type": "markdown",
   "metadata": {},
   "source": [
    "The following functions will help us for plots."
   ]
  },
  {
   "cell_type": "code",
   "execution_count": 21,
   "metadata": {},
   "outputs": [],
   "source": [
    "def calcul_varmean_Pl(N,M,Payoff,BS_Scheme,r,sigma,T,K):\n",
    "    VL=np.zeros(L+1)\n",
    "    ml=np.zeros(L+1)\n",
    "    for l in range(0,L+1):\n",
    "        h=T/(M**l)\n",
    "        DW=np.random.randn(N,M**l)*np.sqrt(h)\n",
    "        Xbar=BS_Scheme(x,DW,r,sigma,T,M**l)\n",
    "        VL[l]=np.var(Payoff(Xbar,K,T,r))\n",
    "        ml[l]=abs(np.mean(Payoff(Xbar,K,T,r)))\n",
    "    return VL,ml\n",
    "    \n",
    "\n",
    "def Calcul_Varmean_Pl1(NL,M,x,BS_Scheme,Payoff,r,sigma,T,K): \n",
    "    VL_1=np.zeros(L+1)\n",
    "    mL_1=np.zeros(L+1)\n",
    "    DW_L=np.random.randn(NL,1)*np.sqrt(T/1)\n",
    "    Sbar_L=BS_Scheme(x,DW_L,r,sigma,T,1)\n",
    "    for l in range(1,L+1):\n",
    "        DW_L=np.random.randn(NL,M**l)*np.sqrt(T/M**l)\n",
    "        DW_L_1=np.zeros((NL,int(M**(l-1))))\n",
    "        for j in range(int(M**(l-1))):\n",
    "            DW_L_1[:,j]=np.sum(DW_L[:,j*M:(j+1)*M],axis=1)   \n",
    "        Sbar_L=BS_Scheme(x,DW_L,r,sigma,T,M**l)\n",
    "        Sbar_L_1=BS_Scheme(x,DW_L_1,r,sigma,T,int(M**(l-1)))\n",
    "        VL_1[l]=np.var(Payoff(Sbar_L,K,T,r) - Payoff(Sbar_L_1,K,T,r))#var pl-pl-1\n",
    "        mL_1[l]=abs(np.mean(Payoff(Sbar_L,K,T,r)-Payoff(Sbar_L_1,K,T,r)))\n",
    "    return (VL_1[1:],mL_1[1:])"
   ]
  },
  {
   "cell_type": "markdown",
   "metadata": {},
   "source": [
    "## 1. European Call Option"
   ]
  },
  {
   "cell_type": "markdown",
   "metadata": {},
   "source": [
    "#### Black-Scholes and Euler discretisation"
   ]
  },
  {
   "cell_type": "markdown",
   "metadata": {},
   "source": [
    "Please run the two following cells to see our global numerical results for the European Call option, with the Black-Scholes model."
   ]
  },
  {
   "cell_type": "code",
   "execution_count": 57,
   "metadata": {},
   "outputs": [
    {
     "name": "stdout",
     "output_type": "stream",
     "text": [
      "Estimator= 0.10528691936566985\n",
      "Condidence interval 95%: [0.10425026209670069, 0.10632357663463901]\n",
      "Error: 0.9846021473653088 % \n",
      "\n",
      "Computational Cost= 98789.0\n",
      "Number of samples NL= [53749.  4568.  1110.]\n",
      "L= 2\n",
      "eps= 0.001\n",
      "Estimator= 0.10451390107451844\n",
      "Condidence interval 95%: [0.10398994605317718, 0.1050378560958597]\n",
      "Error: 0.5013256762539877 % \n",
      "\n",
      "Computational Cost= 380064.0\n",
      "Number of samples NL= [211119.  17473.   4079.]\n",
      "L= 2\n",
      "eps= 0.0005\n",
      "Estimator= 0.10445553124994746\n",
      "Condidence interval 95%: [0.10426581365257825, 0.10464524884731666]\n",
      "Error: 0.18162522855322813 % \n",
      "\n",
      "Computational Cost= 3768588.0\n",
      "Number of samples NL= [1610248.  134152.   41915.    8116.]\n",
      "L= 3\n",
      "eps= 0.0002\n",
      "Estimator= 0.10444854778801112\n",
      "Condidence interval 95%: [0.104360516940231, 0.10453657863579123]\n",
      "Error: 0.0842815430605954 % \n",
      "\n",
      "Computational Cost= 19911531.0\n",
      "Number of samples NL= [7450976.  618207.  152152.   40537.    9636.]\n",
      "L= 4\n",
      "eps= 0.0001\n",
      "Estimator= 0.10444532353794307\n",
      "Condidence interval 95%: [0.10440420116887009, 0.10448644590701606]\n",
      "Error: 0.03937214963774559 % \n",
      "\n",
      "Computational Cost= 104711103.0\n",
      "Number of samples NL= [3.4174233e+07 2.8422260e+06 6.9452700e+05 1.7564800e+05 4.4322000e+04\n",
      " 1.1094000e+04]\n",
      "L= 5\n",
      "eps= 5e-05\n"
     ]
    }
   ],
   "source": [
    "BS_Scheme=BS_Euler_Scheme\n",
    "Payoff=Payoff_Euro_Call\n",
    "L=4\n",
    "M=4\n",
    "NL=10**4\n",
    "r,sigma,x,K,T=0.05,0.2,1,1,1\n",
    "\n",
    "l=np.arange(0,L+1)\n",
    "l1=np.arange(1,L+1)\n",
    "VL,ml=calcul_varmean_Pl(NL,M,Payoff,BS_Scheme,r,sigma,T,K)\n",
    "VL_1,mL_1=Calcul_Varmean_Pl1(NL,M,x,BS_Scheme,Payoff,r,sigma,T,K)\n",
    "\n",
    "\n",
    "eps=[0.001,0.0005,0.0002,0.0001,0.00005]\n",
    "\n",
    "NLtest1,Ptest,S_Vl,cost1,L1=MLMC(0.001,NL,M,x,BS_Scheme,Payoff,r,sigma,T,K)\n",
    "NLtest2,Ptest,S_Vl,cost2,L2=MLMC(0.0005,NL,M,x,BS_Scheme,Payoff,r,sigma,T,K)\n",
    "NLtest3,Ptest,S_Vl,cost3,L3=MLMC(0.0002,NL,M,x,BS_Scheme,Payoff,r,sigma,T,K)\n",
    "NLtest4,Ptest,S_Vl,cost4,L4=MLMC(0.0001,NL,M,x,BS_Scheme,Payoff,r,sigma,T,K)\n",
    "NLtest5,Ptest,S_Vl,cost5,L5=MLMC(0.00005,NL,M,x,BS_Scheme,Payoff,r,sigma,T,K)\n",
    "\n",
    "l_1=np.arange(L1+1)\n",
    "l_2=np.arange(L2+1)\n",
    "l_3=np.arange(L3+1)\n",
    "l_4=np.arange(L4+1)\n",
    "l_5=np.arange(L5+1)"
   ]
  },
  {
   "cell_type": "code",
   "execution_count": 58,
   "metadata": {},
   "outputs": [
    {
     "data": {
      "text/plain": [
       "<matplotlib.legend.Legend at 0x7fc5795e2880>"
      ]
     },
     "execution_count": 58,
     "metadata": {},
     "output_type": "execute_result"
    },
    {
     "data": {
      "image/png": "[encoded data removed]",
      "text/plain": [
       "<Figure size 720x720 with 4 Axes>"
      ]
     },
     "metadata": {
      "needs_background": "light"
     },
     "output_type": "display_data"
    }
   ],
   "source": [
    "L=4\n",
    "l=np.arange(0,L+1)\n",
    "eps=np.array([0.001,0.0005,0.0002,0.0001,0.00005])\n",
    "cost=np.array([cost1,cost2,cost3,cost4,cost5])\n",
    "\n",
    "\n",
    "\n",
    "fig,axs=plt.subplots(2,2,figsize=(10,10))\n",
    "\n",
    "fig = plt.gcf()\n",
    "fig.suptitle(\"MLMC European Call Option, Euler discretisation of Black-Scholes\", fontsize=14)\n",
    "\n",
    "axs[0,0].plot(l,np.log(VL)/np.log(M),'*--',label= r'$P_l$')\n",
    "axs[0,0].plot(l1,np.log(VL_1)/np.log(M),'*-',label=\"$P_l - P_{l-1}$\")\n",
    "axs[0,0].set_ylabel(r'$log_M$ variance')\n",
    "axs[0,0].set_xlabel(r'l')\n",
    "axs[0,0].set_ylim(-10,0)\n",
    "axs[0,0].legend()\n",
    "\n",
    "axs[0,1].plot(l,np.log(ml)/np.log(M),'*--',label= r'$P_l$')\n",
    "axs[0,1].plot(l1,np.log(mL_1)/np.log(M),'*-',label=\"$P_l - P_{l-1}$\")\n",
    "axs[0,1].set_ylabel(r'$log_M$ |mean|')\n",
    "axs[0,1].set_xlabel(r'l')\n",
    "axs[0,1].set_ylim(-12,0)\n",
    "axs[0,1].legend()\n",
    "\n",
    "axs[1,0].plot(l_1,NLtest1,'*--',label= f'$\\epsilon$=0.001')\n",
    "axs[1,0].plot(l_2,NLtest2,'*--',label= f'$\\epsilon$= 0.0005')\n",
    "axs[1,0].plot(l_3,NLtest3,'*--',label= f'$\\epsilon$= 0.0002')\n",
    "axs[1,0].plot(l_4,NLtest4,'*--',label= f'$\\epsilon$= 0.0001')\n",
    "axs[1,0].plot(l_5,NLtest5,'*--',label= f'$\\epsilon$= 0.00005')\n",
    "axs[1,0].set_yscale('log')\n",
    "axs[1,0].set_ylabel(r'$N_l$')\n",
    "axs[1,0].set_xlabel(r'l')\n",
    "axs[1,0].legend()\n",
    "\n",
    "axs[1,1].plot(eps,cost*eps**2,'*--',label='MLMC')\n",
    "\n",
    "axs[1,1].set_yscale('log')\n",
    "axs[1,1].set_xscale('log')\n",
    "axs[1,1].set_ylabel(r'$\\epsilon^{2}cost$')\n",
    "axs[1,1].set_xlabel(r'$\\epsilon$')\n",
    "axs[1,1].set_ylim(0.01,10)\n",
    "axs[1,1].legend()\n",
    "\n"
   ]
  },
  {
   "cell_type": "markdown",
   "metadata": {},
   "source": [
    "## 2. Lookback Option"
   ]
  },
  {
   "cell_type": "markdown",
   "metadata": {},
   "source": [
    "Please run the two following cells to see our global numerical results for the Lookback option."
   ]
  },
  {
   "cell_type": "code",
   "execution_count": 24,
   "metadata": {},
   "outputs": [
    {
     "name": "stdout",
     "output_type": "stream",
     "text": [
      "Estimator= 0.17444432541886187\n",
      "Condidence interval 95%: [0.17357434689081583, 0.17531430394690792]\n",
      "Error: 0.4987141461650451 % \n",
      "\n",
      "Computational Cost= 208105.0\n",
      "Number of samples NL= [76555. 11538.  3693.]\n",
      "L= 2\n",
      "eps= 0.001\n",
      "Estimator= 0.17184213852349278\n",
      "Condidence interval 95%: [0.1715307987816074, 0.17215347826537816]\n",
      "Error: 0.18117776266082833 % \n",
      "\n",
      "Computational Cost= 3538469.0\n",
      "Number of samples NL= [6.39879e+05 9.15420e+04 2.67560e+04 7.15400e+03 1.82700e+03 5.85000e+02]\n",
      "L= 5\n",
      "eps= 0.0005\n",
      "Estimator= 0.17231733376350855\n",
      "Condidence interval 95%: [0.17219165014565915, 0.17244301738135795]\n",
      "Error: 0.07293730416111285 % \n",
      "\n",
      "Computational Cost= 21073518.0\n",
      "Number of samples NL= [3.875253e+06 5.616930e+05 1.647780e+05 4.452200e+04 1.158700e+04\n",
      " 2.988000e+03]\n",
      "L= 5\n",
      "eps= 0.0002\n",
      "Estimator= 0.17223995631401645\n",
      "Condidence interval 95%: [0.17218185657982663, 0.17229805604820628]\n",
      "Error: 0.03373185608796802 % \n",
      "\n",
      "Computational Cost= 116286448.0\n",
      "Number of samples NL= [1.8171173e+07 2.6305790e+06 7.6882700e+05 2.0845500e+05 5.4242000e+04\n",
      " 1.3755000e+04 3.5050000e+03]\n",
      "L= 6\n",
      "eps= 0.0001\n"
     ]
    }
   ],
   "source": [
    "BS_Scheme=BS_Euler_Scheme\n",
    "Payoff=Payoff_Lookback_Option\n",
    "L=4\n",
    "M=4\n",
    "NL=10**4 \n",
    "r,sigma,x,K,T=0.05,0.2,1,1,1\n",
    "\n",
    "l=np.arange(0,L+1)\n",
    "l1=np.arange(1,L+1)\n",
    "VL,ml=calcul_varmean_Pl(NL,M,Payoff,BS_Scheme,r,sigma,T,K)\n",
    "VL_1,mL_1=Calcul_Varmean_Pl1(NL,M,x,BS_Scheme,Payoff,r,sigma,T,K)\n",
    "\n",
    "eps=[0.001,0.0005,0.0002,0.0001]\n",
    "NLtest1,Ptest,S_Vl,cost1,L1=MLMC(0.001,N0,M,x,BS_Scheme,Payoff,r,sigma,T,K)\n",
    "NLtest2,Ptest,S_Vl,cost2,L2=MLMC(0.0005,N0,M,x,BS_Scheme,Payoff,r,sigma,T,K)\n",
    "NLtest3,Ptest,S_Vl,cost3,L3=MLMC(0.0002,N0,M,x,BS_Scheme,Payoff,r,sigma,T,K)\n",
    "NLtest4,Ptest,S_Vl,cost4,L4=MLMC(0.0001,N0,M,x,BS_Scheme,Payoff,r,sigma,T,K)\n",
    "\n",
    "l_1=np.arange(L1+1)\n",
    "l_2=np.arange(L2+1)\n",
    "l_3=np.arange(L3+1)\n",
    "l_4=np.arange(L4+1)"
   ]
  },
  {
   "cell_type": "code",
   "execution_count": 25,
   "metadata": {},
   "outputs": [
    {
     "data": {
      "text/plain": [
       "<matplotlib.legend.Legend at 0x7fc039da97c0>"
      ]
     },
     "execution_count": 25,
     "metadata": {},
     "output_type": "execute_result"
    },
    {
     "data": {
      "image/png": "[encoded data removed]",
      "text/plain": [
       "<Figure size 720x720 with 4 Axes>"
      ]
     },
     "metadata": {
      "needs_background": "light"
     },
     "output_type": "display_data"
    }
   ],
   "source": [
    "L=4\n",
    "l=np.arange(0,L+1)\n",
    "eps=np.array([0.001,0.0005,0.0002,0.0001])\n",
    "cost=np.array([cost1,cost2,cost3,cost4])\n",
    "\n",
    "fig,axs=plt.subplots(2,2,figsize=(10,10))\n",
    "\n",
    "fig = plt.gcf()\n",
    "fig.suptitle(\"MLMC Lookback Option\", fontsize=14)\n",
    "\n",
    "axs[0,0].plot(l,np.log(VL)/np.log(M),'*--',label= r'$P_l$')\n",
    "axs[0,0].plot(l1,np.log(VL_1)/np.log(M),'*-',label=\"$P_l - P_{l-1}$\")\n",
    "axs[0,0].set_ylabel(r'$log_M$ variance')\n",
    "axs[0,0].set_xlabel(r'l')\n",
    "axs[0,0].set_ylim(-10,0)\n",
    "axs[0,0].legend()\n",
    "\n",
    "axs[0,1].plot(l,np.log(ml)/np.log(M),'*--',label= r'$P_l$')\n",
    "axs[0,1].plot(l1,np.log(mL_1)/np.log(M),'*-',label=\"$P_l - P_{l-1}$\")\n",
    "axs[0,1].set_ylabel(r'$log_M$ |mean|')\n",
    "axs[0,1].set_xlabel(r'l')\n",
    "axs[0,1].set_ylim(-12,0)\n",
    "axs[0,1].legend()\n",
    "\n",
    "axs[1,0].plot(l_1,NLtest1,'*--',label= f'$\\epsilon$=0.001')\n",
    "axs[1,0].plot(l_2,NLtest2,'*--',label= f'$\\epsilon$= 0.0005')\n",
    "axs[1,0].plot(l_3,NLtest3,'*--',label= f'$\\epsilon$= 0.0002')\n",
    "axs[1,0].plot(l_4,NLtest4,'*--',label= f'$\\epsilon$= 0.0001')\n",
    "axs[1,0].set_yscale('log')\n",
    "axs[1,0].set_ylabel(r'$N_l$')\n",
    "axs[1,0].set_xlabel(r'l')\n",
    "axs[1,0].legend()\n",
    "\n",
    "axs[1,1].plot(eps,cost*eps**2,'*--',label='MLMC')\n",
    "\n",
    "axs[1,1].set_yscale('log')\n",
    "axs[1,1].set_xscale('log')\n",
    "axs[1,1].set_ylabel(r'$\\epsilon^{2}cost$')\n",
    "axs[1,1].set_xlabel(r'$\\epsilon$')\n",
    "axs[1,1].set_ylim(0.01,10)\n",
    "axs[1,1].legend()"
   ]
  },
  {
   "cell_type": "markdown",
   "metadata": {},
   "source": [
    "## 3. Digital Option"
   ]
  },
  {
   "cell_type": "markdown",
   "metadata": {},
   "source": [
    "Please run the two following cells to see our global numerical results for the Digital option."
   ]
  },
  {
   "cell_type": "code",
   "execution_count": 48,
   "metadata": {},
   "outputs": [
    {
     "name": "stdout",
     "output_type": "stream",
     "text": [
      "Estimator= 0.5429041603186707\n",
      "Condidence interval 95%: [0.537809413438531, 0.5479989071988105]\n",
      "Error: 0.9384247262259457 % \n",
      "\n",
      "Computational Cost= 60296.0\n",
      "Number of samples NL= [30431.  5573.   100.]\n",
      "L= 2\n",
      "eps= 0.005\n",
      "Estimator= 0.5328322131813861\n",
      "Condidence interval 95%: [0.5316294816620177, 0.5340349447007544]\n",
      "Error: 0.22572425045160707 % \n",
      "\n",
      "Computational Cost= 3442340.0\n",
      "Number of samples NL= [5.55385e+05 9.67150e+04 3.86250e+04 1.99860e+04 1.00000e+02]\n",
      "L= 4\n",
      "eps= 0.002\n",
      "Estimator= 0.5230177964733486\n",
      "Condidence interval 95%: [0.5220592998640612, 0.5239762930826359]\n",
      "Error: 0.18326271414670878 % \n",
      "\n",
      "Computational Cost= 1809076.0\n",
      "Number of samples NL= [8.25941e+05 1.88227e+05 1.00000e+02 1.00000e+02 1.00000e+02]\n",
      "L= 4\n",
      "eps= 0.001\n",
      "Estimator= 0.5325030877988556\n",
      "Condidence interval 95%: [0.5322551786007167, 0.5327509969969945]\n",
      "Error: 0.04655544800006294 % \n",
      "\n",
      "Computational Cost= 124704056.0\n",
      "Number of samples NL= [13320861.  2297319.   915586.   339075.   170184.]\n",
      "L= 4\n",
      "eps= 0.0005\n"
     ]
    }
   ],
   "source": [
    "BS_Scheme=BS_Euler_Scheme\n",
    "Payoff=Payoff_Digital_Option\n",
    "L=4\n",
    "M=4\n",
    "NL=10**4 #Extra Samples\n",
    "r,sigma,x,K,T=0.05,0.2,1,1,1\n",
    "\n",
    "l=np.arange(0,L+1)\n",
    "l1=np.arange(1,L+1)\n",
    "VL,ml=calcul_varmean_Pl(NL,M,Payoff,BS_Scheme,r,sigma,T,K)\n",
    "VL_1,mL_1=Calcul_Varmean_Pl1(NL,M,x,BS_Scheme,Payoff,r,sigma,T,K)\n",
    "\n",
    "N0=10**4\n",
    "eps=[0.005,0.002,0.001,0.0005]\n",
    "NLtest1,Ptest,S_Vl,cost1,L1=MLMC(0.005,N0,M,x,BS_Scheme,Payoff,r,sigma,T,K)\n",
    "NLtest2,Ptest,S_Vl,cost2,L2=MLMC(0.002,N0,M,x,BS_Scheme,Payoff,r,sigma,T,K)\n",
    "NLtest3,Ptest,S_Vl,cost3,L3=MLMC(0.001,N0,M,x,BS_Scheme,Payoff,r,sigma,T,K)\n",
    "NLtest4,Ptest,S_Vl,cost4,L4=MLMC(0.0005,N0,M,x,BS_Scheme,Payoff,r,sigma,T,K)\n",
    "\n",
    "l_1=np.arange(L1+1)\n",
    "l_2=np.arange(L2+1)\n",
    "l_3=np.arange(L3+1)\n",
    "l_4=np.arange(L4+1)\n"
   ]
  },
  {
   "cell_type": "code",
   "execution_count": 49,
   "metadata": {},
   "outputs": [
    {
     "data": {
      "text/plain": [
       "<matplotlib.legend.Legend at 0x7fbf3a8d1a00>"
      ]
     },
     "execution_count": 49,
     "metadata": {},
     "output_type": "execute_result"
    },
    {
     "data": {
      "image/png": "[encoded data removed]",
      "text/plain": [
       "<Figure size 720x720 with 4 Axes>"
      ]
     },
     "metadata": {
      "needs_background": "light"
     },
     "output_type": "display_data"
    }
   ],
   "source": [
    "\n",
    "\n",
    "L=4\n",
    "l=np.arange(0,L+1)\n",
    "eps=np.array([0.005,0.002,0.001,0.0005])\n",
    "cost=np.array([cost1,cost2,cost3,cost4])\n",
    "\n",
    "fig,axs=plt.subplots(2,2,figsize=(10,10))\n",
    "\n",
    "fig.suptitle(\"MLMC Digital Option\", fontsize=14)\n",
    "\n",
    "axs[0,0].plot(l,np.log(VL)/np.log(M),'*--',label= r'$P_l$')\n",
    "axs[0,0].plot(l1,np.log(VL_1)/np.log(M),'*-',label=\"$P_l - P_{l-1}$\")\n",
    "axs[0,0].set_ylabel(r'$log_M$ variance')\n",
    "axs[0,0].set_xlabel(r'l')\n",
    "axs[0,0].set_ylim(-10,0)\n",
    "axs[0,0].legend()\n",
    "\n",
    "axs[0,1].plot(l,np.log(ml)/np.log(M),'*--',label= r'$P_l$')\n",
    "axs[0,1].plot(l1,np.log(mL_1)/np.log(M),'*-',label=\"$P_l - P_{l-1}$\")\n",
    "axs[0,1].set_ylabel(r'$log_M$ |mean|')\n",
    "axs[0,1].set_xlabel(r'l')\n",
    "axs[0,1].set_ylim(-12,0)\n",
    "axs[0,1].legend()\n",
    "\n",
    "axs[1,0].plot(l_1,NLtest1,'*--',label= f'$\\epsilon$=0.001')\n",
    "axs[1,0].plot(l_2,NLtest2,'*--',label= f'$\\epsilon$= 0.0005')\n",
    "axs[1,0].plot(l_3,NLtest3,'*--',label= f'$\\epsilon$= 0.0002')\n",
    "axs[1,0].plot(l_4,NLtest4,'*--',label= f'$\\epsilon$= 0.0001')\n",
    "axs[1,0].set_yscale('log')\n",
    "axs[1,0].set_ylabel(r'$N_l$')\n",
    "axs[1,0].set_xlabel(r'l')\n",
    "axs[1,0].legend()\n",
    "\n",
    "axs[1,1].plot(eps,cost*eps**2,'*--',label='MLMC')\n",
    "\n",
    "axs[1,1].set_yscale('log')\n",
    "axs[1,1].set_xscale('log')\n",
    "axs[1,1].set_ylabel(r'$\\epsilon^{2}cost$')\n",
    "axs[1,1].set_xlabel(r'$\\epsilon$')\n",
    "\n",
    "axs[1,1].legend()"
   ]
  }
 ],
 "metadata": {
  "kernelspec": {
   "display_name": "Python 3",
   "language": "python",
   "name": "python3"
  },
  "language_info": {
   "codemirror_mode": {
    "name": "ipython",
    "version": 3
   },
   "file_extension": ".py",
   "mimetype": "text/x-python",
   "name": "python",
   "nbconvert_exporter": "python",
   "pygments_lexer": "ipython3",
   "version": "3.8.3"
  }
 },
 "nbformat": 4,
 "nbformat_minor": 4
}
